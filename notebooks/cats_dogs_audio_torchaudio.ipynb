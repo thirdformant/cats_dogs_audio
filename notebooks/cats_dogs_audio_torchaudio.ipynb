{
  "nbformat": 4,
  "nbformat_minor": 0,
  "metadata": {
    "colab": {
      "name": "cats_dogs_audio_torchaudio.ipynb",
      "version": "0.3.2",
      "provenance": [],
      "collapsed_sections": [],
      "toc_visible": true,
      "include_colab_link": true
    },
    "kernelspec": {
      "name": "python3",
      "display_name": "Python 3"
    },
    "accelerator": "GPU"
  },
  "cells": [
    {
      "cell_type": "markdown",
      "metadata": {
        "id": "view-in-github",
        "colab_type": "text"
      },
      "source": [
        "<a href=\"https://colab.research.google.com/github/thirdformant/cats_dogs_audio/blob/master/notebooks/cats_dogs_audio_torchaudio.ipynb\" target=\"_parent\"><img src=\"https://colab.research.google.com/assets/colab-badge.svg\" alt=\"Open In Colab\"/></a>"
      ]
    },
    {
      "metadata": {
        "id": "yNa0zvIFtgZy",
        "colab_type": "text"
      },
      "cell_type": "markdown",
      "source": [
        "# Audio classification of cats and dogs"
      ]
    },
    {
      "metadata": {
        "id": "hRdNgGMetuHh",
        "colab_type": "text"
      },
      "cell_type": "markdown",
      "source": [
        "Training a machine learning classification model on images of cats and dogs is a common introductory problem. With modern convolutional neural network (CNN) architectures and transfer learning, it is now possible to achieve near-perfect levels of classification accuracy as demonstrated very effectively (and efficiently!) early on in the [fast.ai deep learning MOOC](https://course.fast.ai/). When browsing through the datasets on Kaggle some time ago, I stumbled upon the [Audio Cats and Dogs](https://www.kaggle.com/mmoreaux/audio-cats-and-dogs/home) data, which presents itself as 'the audio counterpart' to the typical image classification problem. As someone with a background in acoustic phonetics, this has rather a lot of appeal. In addition, the dataset brings some new challenges to classification:  first, the audio data requires considerable preprocessing if a CNN is to be used, and second, the data consists of only 277 files. More on both these topics later.\n",
        "\n",
        "This notebook comprises two major parts. The first is a partial implementation of the approaches described in Huzaifah (2017) in his experimentation regarding CNN-based classification of environmental sound data. While the CNN architectures he used were implemented in TensorFlow, I have chosen instead to use Pytorch. The second section ((improves on the approaches used by Huzaifah, increasing the overall classification accuracy using TODO: finish this once the implementation is done))."
      ]
    },
    {
      "metadata": {
        "id": "Pjyov0JX10vr",
        "colab_type": "text"
      },
      "cell_type": "markdown",
      "source": [
        "# Libraries and setup"
      ]
    },
    {
      "metadata": {
        "id": "-tJQoLFbc2ld",
        "colab_type": "text"
      },
      "cell_type": "markdown",
      "source": [
        "[Librosa](http://librosa.github.io/librosa/) is a general-purpose audio processing and analysis library."
      ]
    },
    {
      "metadata": {
        "id": "oCMQApJuiRft",
        "colab_type": "code",
        "outputId": "7384a36b-f78b-48a6-9fab-e50fc5339be9",
        "colab": {
          "base_uri": "https://localhost:8080/",
          "height": 374
        }
      },
      "cell_type": "code",
      "source": [
        "!apt-get install sox libsox-dev libsox-fmt-all\n",
        "!pip3 install git+git://github.com/pytorch/audio\n",
        "!apt-get install python3-gdbm"
      ],
      "execution_count": 46,
      "outputs": [
        {
          "output_type": "stream",
          "text": [
            "Reading package lists... Done\n",
            "Building dependency tree       \n",
            "Reading state information... Done\n",
            "libsox-dev is already the newest version (14.4.2-3).\n",
            "libsox-fmt-all is already the newest version (14.4.2-3).\n",
            "sox is already the newest version (14.4.2-3).\n",
            "0 upgraded, 0 newly installed, 0 to remove and 8 not upgraded.\n",
            "Collecting git+git://github.com/pytorch/audio\n",
            "  Cloning git://github.com/pytorch/audio to /tmp/pip-req-build-j3o8iymq\n",
            "Requirement already satisfied (use --upgrade to upgrade): torchaudio==0.2 from git+git://github.com/pytorch/audio in /usr/local/lib/python3.6/dist-packages\n",
            "Requirement already satisfied: torch in /usr/local/lib/python3.6/dist-packages (from torchaudio==0.2) (1.0.1.post2)\n",
            "Building wheels for collected packages: torchaudio\n",
            "  Building wheel for torchaudio (setup.py) ... \u001b[?25ldone\n",
            "\u001b[?25h  Stored in directory: /tmp/pip-ephem-wheel-cache-sanoprlz/wheels/4e/7c/c5/0d946acbaccad9fe62590374454c4cf135846c9c96fce3ac75\n",
            "Successfully built torchaudio\n",
            "Reading package lists... Done\n",
            "Building dependency tree       \n",
            "Reading state information... Done\n",
            "python3-gdbm is already the newest version (3.6.7-1~18.04).\n",
            "0 upgraded, 0 newly installed, 0 to remove and 8 not upgraded.\n"
          ],
          "name": "stdout"
        }
      ]
    },
    {
      "metadata": {
        "id": "lDu3Ygur2Mu-",
        "colab_type": "code",
        "colab": {}
      },
      "cell_type": "code",
      "source": [
        "import os\n",
        "import dill\n",
        "import pickle\n",
        "from pathlib import Path\n",
        "from typing import Optional\n",
        "from collections import Counter\n",
        "\n",
        "import numpy as np\n",
        "import pandas as pd\n",
        "\n",
        "import librosa # Audio library\n",
        "\n",
        "# Data viz\n",
        "import matplotlib.pyplot as plt\n",
        "\n",
        "from sklearn.model_selection import train_test_split, StratifiedKFold\n",
        "from sklearn.metrics import confusion_matrix\n",
        "\n",
        "# Deep learning\n",
        "import torch\n",
        "import torchaudio\n",
        "import torch.nn as nn\n",
        "import torch.nn.functional as F\n",
        "import torch.optim as optim\n",
        "from torch.utils.data.dataset import Dataset\n",
        "from torch.utils.data import DataLoader\n",
        "\n",
        "# transforms\n",
        "import torchvision.transforms as transforms\n",
        "import torchaudio.transforms"
      ],
      "execution_count": 0,
      "outputs": []
    },
    {
      "metadata": {
        "id": "j6PjxjQJBwFn",
        "colab_type": "code",
        "outputId": "c015f776-9189-48d3-c9d7-fb50a23af35f",
        "colab": {
          "base_uri": "https://localhost:8080/",
          "height": 35
        }
      },
      "cell_type": "code",
      "source": [
        "torch.cuda.is_available()"
      ],
      "execution_count": 48,
      "outputs": [
        {
          "output_type": "execute_result",
          "data": {
            "text/plain": [
              "True"
            ]
          },
          "metadata": {
            "tags": []
          },
          "execution_count": 48
        }
      ]
    },
    {
      "metadata": {
        "id": "vtQnctniBqGB",
        "colab_type": "code",
        "colab": {}
      },
      "cell_type": "code",
      "source": [
        "use_cuda = True\n",
        "\n",
        "if use_cuda and torch.cuda.is_available():\n",
        "    device = torch.device(\"cuda\")"
      ],
      "execution_count": 0,
      "outputs": []
    },
    {
      "metadata": {
        "id": "CXP80igW8tkj",
        "colab_type": "code",
        "outputId": "558bfb14-7938-4028-f117-fed292daf906",
        "colab": {
          "base_uri": "https://localhost:8080/",
          "height": 35
        }
      },
      "cell_type": "code",
      "source": [
        "# Connecting to google drive\n",
        "from google.colab import drive\n",
        "\n",
        "drive.mount('/content/gdrive')"
      ],
      "execution_count": 50,
      "outputs": [
        {
          "output_type": "stream",
          "text": [
            "Drive already mounted at /content/gdrive; to attempt to forcibly remount, call drive.mount(\"/content/gdrive\", force_remount=True).\n"
          ],
          "name": "stdout"
        }
      ]
    },
    {
      "metadata": {
        "id": "Eqsk_vjC2oGJ",
        "colab_type": "text"
      },
      "cell_type": "markdown",
      "source": [
        "# Reading data"
      ]
    },
    {
      "metadata": {
        "id": "vzTyjOv58Zs6",
        "colab_type": "text"
      },
      "cell_type": "markdown",
      "source": [
        "I created a csv file containing the filename and the file labels. This can be passed to the Pytorch Dataset class defined in the next section."
      ]
    },
    {
      "metadata": {
        "id": "PpkduA0421es",
        "colab_type": "code",
        "colab": {}
      },
      "cell_type": "code",
      "source": [
        "# Paths\n",
        "ROOT_PATH = Path('/content/gdrive/My Drive/data/cats_dogs_audio/cats_dogs/')\n",
        "CSV_PATH = Path('/content/gdrive/My Drive/data/cats_dogs_audio/all_data.csv')\n",
        "MODEL_PATH = Path('/content/gdrive/My Drive/data/cats_dogs_audio/models')"
      ],
      "execution_count": 0,
      "outputs": []
    },
    {
      "metadata": {
        "id": "j3vzPD50qjsy",
        "colab_type": "code",
        "colab": {}
      },
      "cell_type": "code",
      "source": [
        "# # Creates the csv file. Commented out because I only needed to run it once\n",
        "\n",
        "# all_data = {\n",
        "#     'label': [],\n",
        "#     'filename': []\n",
        "# }\n",
        "\n",
        "\n",
        "# files_list = os.listdir(ROOT_PATH)\n",
        "# for f in files_list:\n",
        "#     if Path(f).suffix == '.wav':\n",
        "#         all_data['filename'].append(f)\n",
        "#         if 'cat' in f:\n",
        "#             all_data['label'].append(0)\n",
        "#         else:\n",
        "#             all_data['label'].append(1)\n",
        "\n",
        "# data_df = pd.DataFrame(all_data).iloc[:, ::-1] # Reverse the column order\n",
        "# data_df.to_csv(CSV_PATH, index=False)"
      ],
      "execution_count": 0,
      "outputs": []
    },
    {
      "metadata": {
        "id": "fLhW72lJ-PO3",
        "colab_type": "code",
        "colab": {}
      },
      "cell_type": "code",
      "source": [
        "data_df = pd.read_csv(CSV_PATH)"
      ],
      "execution_count": 0,
      "outputs": []
    },
    {
      "metadata": {
        "id": "rVGFQB_AwArl",
        "colab_type": "code",
        "outputId": "758116e5-af07-4fea-8e1f-192bb990a1f2",
        "colab": {
          "base_uri": "https://localhost:8080/",
          "height": 53
        }
      },
      "cell_type": "code",
      "source": [
        "print(f'The distribution of classes in the data is: {Counter(data_df[\"label\"])}')\n",
        "print(f'The shape of the data is: {data_df.shape}')"
      ],
      "execution_count": 54,
      "outputs": [
        {
          "output_type": "stream",
          "text": [
            "The distribution of classes in the data is: Counter({0: 164, 1: 113})\n",
            "The shape of the data is: (277, 2)\n"
          ],
          "name": "stdout"
        }
      ]
    },
    {
      "metadata": {
        "id": "NNzd8XtaqMQo",
        "colab_type": "text"
      },
      "cell_type": "markdown",
      "source": [
        "# CNN architectures"
      ]
    },
    {
      "metadata": {
        "id": "cUgoX4uIrusZ",
        "colab_type": "text"
      },
      "cell_type": "markdown",
      "source": [
        "Huzaifah (2017: 3) defined two CNN architectures, with Conv-5 being deeper than Conv-3. For each network, two different convolutional filters were considered, a  $3\\times3$ filter and an $M\\times3$ filter where $M$ spans the FFT frequency bins. So far, only the $3\\times3$ filter networks are implemented here."
      ]
    },
    {
      "metadata": {
        "id": "kNoCy-i7YGtj",
        "colab_type": "code",
        "colab": {}
      },
      "cell_type": "code",
      "source": [
        "def outputSize(in_size, kernel_size, stride, padding):\n",
        "\n",
        "    output = int((in_size - kernel_size + 2*(padding)) / stride) + 1\n",
        "    return(output)"
      ],
      "execution_count": 0,
      "outputs": []
    },
    {
      "metadata": {
        "id": "zzl5kXhhuugf",
        "colab_type": "code",
        "colab": {}
      },
      "cell_type": "code",
      "source": [
        "class Lambda(nn.Module):\n",
        "    def __init__(self, func):\n",
        "        super().__init__()\n",
        "        self.func = func\n",
        "    \n",
        "    def forward(self, x):\n",
        "        return self.func(x)\n",
        "    \n",
        "class PrintLambda(nn.Module):\n",
        "    def __init__(self, func):\n",
        "        super().__init__()\n",
        "        self.func = func\n",
        "\n",
        "    def forward(self, x):\n",
        "        self.func(x)\n",
        "        return x"
      ],
      "execution_count": 0,
      "outputs": []
    },
    {
      "metadata": {
        "id": "kZ3bc4fsIAhI",
        "colab_type": "text"
      },
      "cell_type": "markdown",
      "source": [
        "## Conv-3"
      ]
    },
    {
      "metadata": {
        "id": "hWIMoaU2uv9H",
        "colab_type": "text"
      },
      "cell_type": "markdown",
      "source": [
        "### Narrowband conv-3"
      ]
    },
    {
      "metadata": {
        "id": "niCt0EMku1tT",
        "colab_type": "code",
        "colab": {}
      },
      "cell_type": "code",
      "source": [
        "nb_conv3_model = nn.Sequential(\n",
        "    nn.Conv2d(1, 180, kernel_size=3, stride=1, padding=1),\n",
        "    nn.ReLU(),\n",
        "    nn.MaxPool2d(kernel_size=4, stride=4, padding=1),\n",
        "    nn.Dropout(0.5),\n",
        "    Lambda(lambda x: x.view(-1, 180 * 9 * 13)),\n",
        "    nn.Linear(180 * 9 * 13, 800),\n",
        "    nn.ReLU(),\n",
        "    nn.Dropout(0.5),\n",
        "    nn.Linear(800, 2)\n",
        ")"
      ],
      "execution_count": 0,
      "outputs": []
    },
    {
      "metadata": {
        "id": "WyyhBX9ZuzhV",
        "colab_type": "text"
      },
      "cell_type": "markdown",
      "source": [
        "### Wideband conv-3"
      ]
    },
    {
      "metadata": {
        "id": "kBys1pHCIHGn",
        "colab_type": "code",
        "colab": {}
      },
      "cell_type": "code",
      "source": [
        "wb_conv3_model = nn.Sequential(\n",
        "    nn.Conv2d(1, 180, kernel_size=3, stride=1, padding=1),\n",
        "    nn.ReLU(),\n",
        "    nn.MaxPool2d(kernel_size=4, stride=4, padding=1),\n",
        "    nn.Dropout(0.5),\n",
        "    Lambda(lambda x: x.view(-1, 180 * 39 * 3)),\n",
        "    nn.Linear(180 * 39 * 3, 800),\n",
        "    nn.ReLU(),\n",
        "    nn.Dropout(0.5),\n",
        "    nn.Linear(800, 2)\n",
        ")"
      ],
      "execution_count": 0,
      "outputs": []
    },
    {
      "metadata": {
        "id": "aYc1sdk9z3DX",
        "colab_type": "text"
      },
      "cell_type": "markdown",
      "source": [
        "## Conv-5"
      ]
    },
    {
      "metadata": {
        "id": "lsPuaACUz5-S",
        "colab_type": "text"
      },
      "cell_type": "markdown",
      "source": [
        "### Narrowband conv-5"
      ]
    },
    {
      "metadata": {
        "id": "TJmLKzZRz8nc",
        "colab_type": "code",
        "colab": {}
      },
      "cell_type": "code",
      "source": [
        "nb_conv5_model = nn.Sequential(\n",
        "    nn.Conv2d(1, 24, kernel_size=3, stride=1, padding=1),\n",
        "    nn.ReLU(),\n",
        "    nn.MaxPool2d(kernel_size=2, stride=2, padding=1),\n",
        "    nn.Dropout(0.5),\n",
        "    nn.Conv2d(24, 48, kernel_size=3, stride=1, padding=1),\n",
        "    nn.ReLU(),\n",
        "    nn.MaxPool2d(kernel_size=2, stride=2, padding=1),\n",
        "    nn.Conv2d(48, 96, kernel_size=3, stride=1, padding=1),\n",
        "    nn.ReLU(),\n",
        "    Lambda(lambda x: x.view(-1, 96 * 10 * 14)),\n",
        "    nn.Linear(96 * 10 * 14, 800),\n",
        "    nn.ReLU(),\n",
        "    nn.Dropout(0.5),\n",
        "    nn.Linear(800, 2)\n",
        ")"
      ],
      "execution_count": 0,
      "outputs": []
    },
    {
      "metadata": {
        "id": "kSa0W_MY58Ba",
        "colab_type": "text"
      },
      "cell_type": "markdown",
      "source": [
        "### Wideband conv-5"
      ]
    },
    {
      "metadata": {
        "id": "ySUSR2Jo5-rh",
        "colab_type": "code",
        "colab": {}
      },
      "cell_type": "code",
      "source": [
        "wb_conv5_model = nn.Sequential(\n",
        "    nn.Conv2d(1, 24, kernel_size=3, stride=1, padding=1),\n",
        "    nn.ReLU(),\n",
        "    nn.MaxPool2d(kernel_size=2, stride=2, padding=1),\n",
        "    nn.Dropout(0.5),\n",
        "    nn.Conv2d(24, 48, kernel_size=3, stride=1, padding=1),\n",
        "    nn.ReLU(),\n",
        "    nn.MaxPool2d(kernel_size=2, stride=2, padding=1),\n",
        "    nn.Conv2d(48, 96, kernel_size=3, stride=1, padding=1),\n",
        "    nn.ReLU(),\n",
        "    Lambda(lambda x: x.view(-1, 96 * 40 * 4)),\n",
        "    nn.Linear(96 * 40 * 4, 800),\n",
        "    nn.ReLU(),\n",
        "    nn.Dropout(0.5),\n",
        "    nn.Linear(800, 2)\n",
        ")"
      ],
      "execution_count": 0,
      "outputs": []
    },
    {
      "metadata": {
        "id": "JFmGMBbRefOX",
        "colab_type": "text"
      },
      "cell_type": "markdown",
      "source": [
        "## CNN training functions"
      ]
    },
    {
      "metadata": {
        "id": "H5vsrm8fofxy",
        "colab_type": "text"
      },
      "cell_type": "markdown",
      "source": [
        "Defining a class for preparing the data and training the CNNs."
      ]
    },
    {
      "metadata": {
        "id": "EjlQwSnFokyn",
        "colab_type": "code",
        "colab": {}
      },
      "cell_type": "code",
      "source": [
        "class _WrappedDataLoader:\n",
        "    def __init__(self, dl, func, dev):\n",
        "        self.dl = dl\n",
        "        self.func = func\n",
        "        self.dev = dev\n",
        "\n",
        "    def __len__(self):\n",
        "        return len(self.dl)\n",
        "\n",
        "    def __iter__(self):\n",
        "        batches = iter(self.dl)\n",
        "        for b in batches:\n",
        "            yield (self.func(*b, self.dev))\n",
        "\n",
        "            \n",
        "\n",
        "class FitCNN(object):\n",
        "    \"\"\"\n",
        "    Functions for training a CNN\n",
        "    Args:\n",
        "        train_ds: pytorch Dataset of training data\n",
        "        train_ds: pytorch Dataset of validation data\n",
        "    \"\"\"\n",
        "    def __init__(self, train_ds, valid_ds, bs, preprocess_func, model, epochs,\n",
        "                 loss_func, opt, dev):\n",
        "        self.dev = dev\n",
        "        self.train_ds = train_ds\n",
        "        self.valid_ds = valid_ds\n",
        "        self.bs = bs\n",
        "        self.preprocess = preprocess_func\n",
        "        self.model = model\n",
        "        self.epochs = epochs\n",
        "        self.loss_func = loss_func\n",
        "        self.opt = opt\n",
        "        \n",
        "        self.train_loss = []\n",
        "        self.valid_loss = []\n",
        "        self.epoch_accuracy = []\n",
        "        \n",
        "        self.preds = []\n",
        "        self.actuals = []\n",
        "        self.accuracy = []\n",
        "        \n",
        "    \n",
        "    def fit(self):\n",
        "        \n",
        "        train_dl, valid_dl = self._get_data(self.train_ds, self.valid_ds, self.bs)\n",
        "        train_dl = _WrappedDataLoader(train_dl, self.preprocess, self.dev)\n",
        "        valid_dl = _WrappedDataLoader(valid_dl, self.preprocess, self.dev)\n",
        "        \n",
        "        if self.dev == torch.device(\"cuda\"):\n",
        "            print(\"Training the model on the GPU\")\n",
        "        else:\n",
        "            print(\"Training the model on the CPU\")\n",
        "        \n",
        "        self.model.apply(self._weights_init)\n",
        "        \n",
        "        \n",
        "        \n",
        "        for epoch in range(self.epochs):\n",
        "            \n",
        "            running_loss = 0.0\n",
        "            \n",
        "            self.model.train()\n",
        "            for xb, yb in train_dl:\n",
        "                t_loss, _ = self._batch_loss(self.model, self.loss_func, xb, yb, self.opt)\n",
        "                running_loss += t_loss\n",
        "            train_loss = (running_loss/len(train_dl))\n",
        "            self.train_loss.append(train_loss)\n",
        "        \n",
        "        \n",
        "            self.model.eval()\n",
        "            with torch.no_grad():\n",
        "                \n",
        "                losses, nums = zip(\n",
        "                    *[self._batch_loss(self.model, self.loss_func, xb, yb) for xb, yb in valid_dl]\n",
        "                )\n",
        "                val_loss = (losses[0] / len(valid_dl))\n",
        "                self.valid_loss.append(val_loss)\n",
        "                \n",
        "                \n",
        "            if epoch % 5 == 0:\n",
        "                print(f\"Epoch: {epoch}; Train loss: {train_loss}; Validation loss: {val_loss}\")\n",
        "            running_loss = 0.0\n",
        "            acc = self._accuracy_score(valid_dl)\n",
        "            self.epoch_accuracy.append(acc[2])\n",
        "\n",
        "        self.preds, self.actuals, self.accuracy = self._accuracy_score(valid_dl,\n",
        "                                                                      print_score=True)\n",
        "    \n",
        "    def _get_data(self, train_ds, valid_ds, bs):\n",
        "        return (\n",
        "            DataLoader(train_ds, batch_size=bs, shuffle=True),\n",
        "            DataLoader(valid_ds, batch_size=bs*2)\n",
        "        )\n",
        "    \n",
        "    \n",
        "    def _batch_loss(self, model, loss_func, xb, yb, opt=None):\n",
        "        loss = loss_func(model(xb), yb)\n",
        "\n",
        "        if opt is not None:\n",
        "            loss.backward()\n",
        "            opt.step()\n",
        "            opt.zero_grad()\n",
        "        return loss.item(), len(xb)\n",
        "    \n",
        "    \n",
        "    def _accuracy_score(self, valid_dl, print_score=False):\n",
        "        correct = 0\n",
        "        total = 0\n",
        "        preds = []\n",
        "        labels = []\n",
        "        with torch.no_grad():\n",
        "            for data in valid_dl:\n",
        "                b_images, b_labels = data\n",
        "                outputs = self.model(b_images)\n",
        "                _, b_predicted = torch.max(outputs.data, 1)\n",
        "                total += b_labels.size(0)\n",
        "                correct += (b_predicted == b_labels).sum().item()\n",
        "                labels.extend(b_labels.cpu().tolist())\n",
        "                preds.extend(b_predicted.cpu().cpu().tolist())\n",
        "        accuracy = (100 * correct / total)\n",
        "        if print_score:\n",
        "            print(\"-\" * 40)\n",
        "            print(f'Accuracy: {accuracy}')\n",
        "            print(f\"Confusion matrix:\\n {confusion_matrix(labels, preds)}\")\n",
        "            print(\"-\" * 40)\n",
        "        return preds, labels, accuracy\n",
        "        \n",
        "        \n",
        "    def _weights_init(self, m):\n",
        "        if isinstance(m, nn.Conv2d):\n",
        "            nn.init.xavier_uniform_(m.weight.data,\n",
        "                                         nn.init.calculate_gain('relu'))\n",
        "            m.bias.data.zero_()\n",
        "        elif isinstance(m, nn.Linear):\n",
        "            nn.init.xavier_uniform_(m.weight.data,\n",
        "                                         nn.init.calculate_gain('relu'))\n",
        "            m.bias.data.zero_()"
      ],
      "execution_count": 0,
      "outputs": []
    },
    {
      "metadata": {
        "id": "ka2p1u6Bexdo",
        "colab_type": "text"
      },
      "cell_type": "markdown",
      "source": [
        "### Cross validation"
      ]
    },
    {
      "metadata": {
        "id": "62KfS-Zte1Rq",
        "colab_type": "text"
      },
      "cell_type": "markdown",
      "source": [
        "Class for n-fold cross-validation of CNN."
      ]
    },
    {
      "metadata": {
        "id": "YfdzmO2MewCr",
        "colab_type": "code",
        "colab": {}
      },
      "cell_type": "code",
      "source": [
        "class CVModel:\n",
        "    \"\"\"\n",
        "    Create and train a CNN with n-fold cross-validation\n",
        "    \"\"\"\n",
        "    def __init__(self, X, nfolds, root, audio_trfms, image_trfms, dur,\n",
        "                librosa=False, dev=None):\n",
        "        self.X = X\n",
        "        self.y = self.X['label']\n",
        "        self.nfolds = nfolds\n",
        "        \n",
        "        self.root = root\n",
        "        self.audio_trfms = audio_trfms\n",
        "        self.image_trfms = image_trfms\n",
        "        self.dur = dur\n",
        "        self.librosa = librosa\n",
        "        \n",
        "        self.model = ''\n",
        "        self.loss_func = ''\n",
        "        self.opt = ''\n",
        "        self.params = {}\n",
        "        \n",
        "        self.train_loss = []\n",
        "        self.valid_loss = []\n",
        "        self.epoch_accuracy = []\n",
        "        \n",
        "        self.acc_scores = []\n",
        "        self.train_preds = []\n",
        "        self.train_actual = []\n",
        "        \n",
        "        if dev:\n",
        "            self.dev = dev\n",
        "        elif torch.cuda.is_available():\n",
        "            self.dev = torch.device(\"cuda\")\n",
        "        else:\n",
        "            self.dev = torch.device(\"cpu\")\n",
        "    \n",
        "    def train_cnn(self, model, params):\n",
        "        # CV setup\n",
        "        self.model = model.to(self.dev)\n",
        "        self.params = params\n",
        "        \n",
        "        skf = StratifiedKFold(n_splits=self.nfolds, random_state=42, shuffle=True)\n",
        "        fold_count = 1\n",
        "        \n",
        "        for train_index, valid_index in skf.split(np.zeros(self.X.shape[0]), self.y):\n",
        "            print(f\"Fold {fold_count} / {self.nfolds}:\")\n",
        "            # Splits data into training and validation sets\n",
        "            X_train, X_valid = self.X.iloc[train_index], self.X.iloc[valid_index]\n",
        "            \n",
        "            train_ds = AudioFeatureDataset(X_train, self.root,\n",
        "                                           audio_transform=self.audio_trfms,\n",
        "                                           image_transform=self.image_trfms,\n",
        "                                           duration=self.dur,\n",
        "                                           librosa=self.librosa)\n",
        "                        \n",
        "            valid_ds = AudioFeatureDataset(X_valid, self.root,\n",
        "                                           audio_transform=self.audio_trfms,\n",
        "                                           image_transform=self.image_trfms,\n",
        "                                           duration=self.dur,\n",
        "                                           librosa=self.librosa)\n",
        "            \n",
        "            # Trains the model and gets predictions and accuracy scores\n",
        "            opt = optim.Adam(self.model.parameters(),\n",
        "                             lr=self.params['lr'],\n",
        "                             weight_decay=self.params['l2'])\n",
        "            loss_func = nn.CrossEntropyLoss()\n",
        "            \n",
        "            model_fitter = FitCNN(train_ds, valid_ds, bs=self.params['bs'],\n",
        "                                  preprocess_func=self.params['preprocess'],\n",
        "                                  model=self.model,\n",
        "                                  epochs=self.params['epochs'],\n",
        "                                  loss_func=loss_func,\n",
        "                                  opt=opt, dev=self.dev)\n",
        "            \n",
        "            \n",
        "            model_fitter.fit()\n",
        "\n",
        "            # Process model results\n",
        "            self.train_loss.append(model_fitter.train_loss)\n",
        "            self.valid_loss.append(model_fitter.valid_loss)\n",
        "            self.epoch_accuracy.append(model_fitter.epoch_accuracy)\n",
        "            self.train_preds.extend(model_fitter.preds)\n",
        "            self.train_actual.extend(model_fitter.actuals)\n",
        "            self.acc_scores.append(model_fitter.accuracy)\n",
        "            fold_count += 1\n",
        "            \n",
        "        # Print model results summary\n",
        "        print(\"=\" * 40)\n",
        "        print(f\"Accuracy scores: {self.acc_scores}\")\n",
        "        print(f\"Mean accuracy: {np.mean(self.acc_scores)}\")\n",
        "        print(f\"Accuracy sd: {np.std(self.acc_scores)}\")\n",
        "        print(f\"Median accuracy: {np.median(self.acc_scores)}\")\n",
        "        print(f\"Confusion matrix:\\n{confusion_matrix(self.train_actual, self.train_preds)}\")\n",
        "        print(\"-\" * 40)\n",
        "        print(f\"Model parameters:\\n {self.params}\")\n",
        "        print(\"=\" * 40)"
      ],
      "execution_count": 0,
      "outputs": []
    },
    {
      "metadata": {
        "id": "WRtIXaN9hKFL",
        "colab_type": "code",
        "colab": {}
      },
      "cell_type": "code",
      "source": [
        "def preprocess_nb(x, y, dev):\n",
        "    return x.view(-1, 1, 37, 50).to(dev), y.to(dev)\n",
        "\n",
        "def preprocess_wb(x, y, dev):\n",
        "    return x.view(-1, 1, 154, 12).to(dev), y.to(dev)"
      ],
      "execution_count": 0,
      "outputs": []
    },
    {
      "metadata": {
        "id": "FMnU7-ElJ3Jt",
        "colab_type": "text"
      },
      "cell_type": "markdown",
      "source": [
        "# CNN training"
      ]
    },
    {
      "metadata": {
        "id": "nQ0DbNpCfHPG",
        "colab_type": "text"
      },
      "cell_type": "markdown",
      "source": [
        "## Feature overview"
      ]
    },
    {
      "metadata": {
        "id": "dDBHyFN3-TTo",
        "colab_type": "text"
      },
      "cell_type": "markdown",
      "source": [
        "Waveforms show changes in the signal, especially in its amplitude (loudness), over time and are therefore representations of the signal in the *time domain*. This is, however, only one aspect of the signal. When it comes to training audio classification or e.g. speech recognition models, better results are achieved when considering how the frequency of the signal, rather than its amplitude, changes over time. These are known as *time-frequency* representations, the best-known of which is the spectrogram.\n",
        "\n",
        "While Huzaifah (2017) created four time-frequency representations, only two are currently implemented here:\n",
        "- Linear-scaled Short-time Fourier Transform (STFT) spectrograms\n",
        "- mel-scaled STFT spectrograms.\n",
        "\n",
        "In addition, Mel-frequency Cepstral Coefficients (MFCCs) were also extracted from the input signal.\n",
        "\n",
        "Prior to feature extractions, all raw audio was either clipped or padded to a 4 second duration."
      ]
    },
    {
      "metadata": {
        "id": "tHz754Fy--eo",
        "colab_type": "text"
      },
      "cell_type": "markdown",
      "source": [
        "## Pytorch dataset definition"
      ]
    },
    {
      "metadata": {
        "id": "VeB86ajfYQXS",
        "colab_type": "text"
      },
      "cell_type": "markdown",
      "source": [
        "Pytorch datasets allow the audio features to be extracted and transformed 'on the fly' when needed, rather than being extracted in advance and saved separately.\n",
        "\n",
        "The current implementation of this allows for two options. The first uses `librosa` to load the audio data and perform the transformations. This was the approach taken by Huzaifah (2017) and so produces the most directly comparable results. However, `librosa` is limited to the CPU and is therefore slow. The second option uses the transformations in `torchaudio`, which can be run on a CUDA-compatible GPU. Being the faster option, this is the default here."
      ]
    },
    {
      "metadata": {
        "id": "UAiqOZ2FhwyT",
        "colab_type": "code",
        "colab": {}
      },
      "cell_type": "code",
      "source": [
        "class AudioFeatureDataset(Dataset):\n",
        "    def __init__(self, dataframe:pd.DataFrame, root_path:Path,\n",
        "                 offset:int=0, duration:int=None, sr:int=16000,\n",
        "                 audio_transform=None, image_transform=None,\n",
        "                 librosa=False):\n",
        "        \"\"\"\n",
        "        Args:\n",
        "            dataframe: Pandas dataframe of format {labels, filename}\n",
        "            root: root path for input data dir\n",
        "            offset: ?\n",
        "            duration: desired duration of the audio signal\n",
        "            sr: desired sampling rate of the audio signal\n",
        "            transform: transformations to be applied to the data\n",
        "        \"\"\"\n",
        "        self.root = root_path\n",
        "        \n",
        "        self.data = dataframe\n",
        "        self.files = np.array(self.data.iloc[:, 1])\n",
        "        self.classes = np.array(self.data.iloc[:, 0])\n",
        "        \n",
        "        self.sr = sr\n",
        "        self.offset = offset\n",
        "        self.duration = duration\n",
        "        \n",
        "        self.audio_transform = audio_transform\n",
        "        self.image_transform = image_transform\n",
        "        self.librosa = librosa\n",
        "        \n",
        "        self.dev = torch.device(\"cuda\") if torch.cuda.is_available() else torch.device(\"cpu\")\n",
        "        \n",
        "    def __getitem__(self, index):\n",
        "        # Stuff\n",
        "        file = self.files[index]\n",
        "        label = self.classes[index]\n",
        "        \n",
        "        if self.librosa:\n",
        "            signal, sr = librosa.core.load(self.root / file, sr=self.sr,\n",
        "                                       offset=self.offset,\n",
        "                                       duration=self.duration)\n",
        "            if self.duration:\n",
        "                signal = self._pad_audio(signal)\n",
        "                \n",
        "            signal = self.audio_transform(signal)\n",
        "            signal = np.abs(signal)\n",
        "            signal = np.expand_dims(signal, axis=2)\n",
        "            signal = self.image_transform(signal.astype(\"uint8\"))\n",
        "            \n",
        "            \n",
        "        else:\n",
        "            signal = torchaudio.load(self.root / file, offset=self.offset)[0].to(self.dev)\n",
        "        \n",
        "            if self.duration:\n",
        "                num_samples = self.sr * self.duration\n",
        "                pad_trfms = transforms.Compose([\n",
        "                    torchaudio.transforms.PadTrim(max_len=num_samples)])\n",
        "                signal = pad_trfms(signal)\n",
        "            \n",
        "            signal = self.audio_transform(signal)\n",
        "            signal = signal.transpose(1, 2)\n",
        "            signal = self.image_transform(signal.cpu().type(torch.uint8))\n",
        "\n",
        "        return signal, label\n",
        "    \n",
        "\n",
        "    def __len__(self):\n",
        "        return len(self.files)\n",
        "    \n",
        "    def _pad_audio(self, signal):\n",
        "        '''\n",
        "        From https://stackoverflow.com/a/32477869 with comments and minor\n",
        "        changes to variable names for additional clarity\n",
        "        '''\n",
        "        # Calculate target number of samples\n",
        "        n_target = int(self.sr * self.duration)\n",
        "        # Calculate number of zero samples to append\n",
        "        shape = signal.shape\n",
        "        # Create the target shape    \n",
        "        padding = n_target - shape[0]\n",
        "        #   print(\"Padding with %s seconds of silence\" % str(N_pad/fs) )\n",
        "        shape = (padding,) + shape[1:]\n",
        "        # Stack only if there is something to append    \n",
        "        if shape[0] > 0:                \n",
        "            if len(shape) > 1:\n",
        "                return np.vstack((np.zeros(shape),\n",
        "                                signal))\n",
        "            else:\n",
        "                return np.hstack((np.zeros(shape),\n",
        "                                signal))\n",
        "        else:\n",
        "            return signal"
      ],
      "execution_count": 0,
      "outputs": []
    },
    {
      "metadata": {
        "id": "hk6DMgqxGTUE",
        "colab_type": "text"
      },
      "cell_type": "markdown",
      "source": [
        "## Short-time Fourier Transform (STFT) features"
      ]
    },
    {
      "metadata": {
        "id": "TwsNs5SEGXkt",
        "colab_type": "text"
      },
      "cell_type": "markdown",
      "source": [
        "Put very briefly, any periodic waveform can be represented by as a sum (possibly infinite) of sinusoids of different frequency and phase. Fourier transforms perform this decomposition on a signal, revealing its frequency and phase components.\n",
        "\n",
        "Fourier transforms are typically applied to the signal as a whole and thus do not reveal how the frequency and phase components of the signal change over time. This can, however, be done with the STFT. First, the signal is divided into overlapping segments of equal length and a window function applied to these segments. The transform is then taken for each of these windows, with the complex-valued results being added to a matrix. \n",
        "\n",
        "The spectrogram of the signal is then defined as the magnitude (the absolute value) of the STFT matrix squared."
      ]
    },
    {
      "metadata": {
        "id": "QPKcy2FXR923",
        "colab_type": "text"
      },
      "cell_type": "markdown",
      "source": [
        "The STFT of a signal is given by: \n",
        "\n",
        "\\begin{equation*}\n",
        "X[m, \\omega] = \\sum_{k=0}^{\\textrm{win_length}-1}\\textrm{input}[m] \\cdot \\textrm{window}[n - m] \\cdot \\exp{\\bigg(-j\\frac{2\\pi \\cdot \\omega k}{\\textrm{win_length}}\\bigg)}\n",
        "\\end{equation*}"
      ]
    },
    {
      "metadata": {
        "id": "QZKcwPNKR4e1",
        "colab_type": "text"
      },
      "cell_type": "markdown",
      "source": [
        "Varying the window length (`win_length`) affects the resolution of the STFT in terms of time and frequency. Longer windows capture higher frequencies, but show less change across time (as the time domain is split into fewer windows) and shorter windows show greater change in time in exchange for lower frequency resolution. The former are known as narrowband transforms and the latter as wideband transforms."
      ]
    },
    {
      "metadata": {
        "id": "Ia1NauiYPu2E",
        "colab_type": "text"
      },
      "cell_type": "markdown",
      "source": [
        "### Linear STFT spectrograms"
      ]
    },
    {
      "metadata": {
        "id": "LEVpeWguQS82",
        "colab_type": "text"
      },
      "cell_type": "markdown",
      "source": [
        "In linear spectrograms, the STFT frequency bins are scaled linearly which is the unmodified output of the STFT.\n",
        "\n",
        "Both wideband (`win_length` = 512) and narrowband (`win_length` = 2048) linear spectrograms were extracted from the input signal. In both cases the window hop length was $\\textrm{win_len} / 2$. The STFT values were converted to the logarithmic scale (dB) and spectrogram values were normalised to $[-1, 1]$.\n",
        "\n",
        "The final images were resized to 37$\\times$50 pixels for narrowband spectrograms and 154$\\times$12 pixels for wideband spectrograms with Lanczos resampling."
      ]
    },
    {
      "metadata": {
        "id": "pYW8iShuYk6n",
        "colab_type": "code",
        "colab": {}
      },
      "cell_type": "code",
      "source": [
        "class LinearSpectrogram(object):\n",
        "    \"\"\"\n",
        "    Creates a spectrogram from a raw audio signal using librosa\n",
        "    Args:\n",
        "        sr: sample rate\n",
        "        n_fft: size of fft\n",
        "    \"\"\"\n",
        "    def __init__(self, n_fft, sr=16000, hop_length=None, center=True):\n",
        "        self.n_fft = n_fft\n",
        "        self.sr = sr\n",
        "        self.hop_length = hop_length if hop_length else self.n_fft // 2\n",
        "        self.center = center\n",
        "    \n",
        "    def __call__(self, sig):\n",
        "        stft = np.abs(librosa.core.stft(sig, n_fft=self.n_fft,\n",
        "                                        hop_length=self.hop_length,\n",
        "                                        center=self.center))\n",
        "        spectrogram = librosa.amplitude_to_db(stft, ref=np.max)\n",
        "        return spectrogram"
      ],
      "execution_count": 0,
      "outputs": []
    },
    {
      "metadata": {
        "id": "cUsM0PW2XIpP",
        "colab_type": "code",
        "colab": {}
      },
      "cell_type": "code",
      "source": [
        "\"\"\"\n",
        "Parameters and transformations for narrowband linear STFT features\n",
        "\"\"\"\n",
        "nb_linear_params = {\n",
        "    'n_fft': 512\n",
        "}\n",
        "\n",
        "nb_lin_transform_librosa = transforms.Compose([\n",
        "    LinearSpectrogram(n_fft=nb_linear_params['n_fft'])\n",
        "])\n",
        "\n",
        "nb_lin_transform = transforms.Compose([\n",
        "    torchaudio.transforms.Spectrogram(ws=nb_linear_params['n_fft']),\n",
        "    torchaudio.transforms.SpectogramToDB()\n",
        "])\n",
        "\n",
        "nb_image_transform = transforms.Compose([\n",
        "    transforms.ToPILImage(),\n",
        "    transforms.Resize((37, 50), 4),\n",
        "    transforms.Grayscale(num_output_channels=1),\n",
        "    transforms.ToTensor(),\n",
        "    transforms.Normalize([0.5], [0.5])\n",
        "])"
      ],
      "execution_count": 0,
      "outputs": []
    },
    {
      "metadata": {
        "id": "xNGwcYVtaXR8",
        "colab_type": "code",
        "colab": {}
      },
      "cell_type": "code",
      "source": [
        "\"\"\"\n",
        "Parameters and transformations for wideband linear STFT features\n",
        "\"\"\"\n",
        "\n",
        "wb_linear_params = {\n",
        "    'n_fft': 2048\n",
        "}\n",
        "\n",
        "wb_lin_transform_librosa = transforms.Compose([\n",
        "    LinearSpectrogram(n_fft=wb_linear_params['n_fft'])\n",
        "])\n",
        "\n",
        "wb_lin_transform = transforms.Compose([\n",
        "    torchaudio.transforms.Spectrogram(ws=wb_linear_params['n_fft']),\n",
        "    torchaudio.transforms.SpectogramToDB()\n",
        "])\n",
        "\n",
        "wb_image_transform = transforms.Compose([\n",
        "    transforms.ToPILImage(),\n",
        "    transforms.Resize((154, 12), 4),\n",
        "    transforms.Grayscale(num_output_channels=1),\n",
        "    transforms.ToTensor(),\n",
        "    transforms.Normalize([0.5], [0.5])\n",
        "])"
      ],
      "execution_count": 0,
      "outputs": []
    },
    {
      "metadata": {
        "id": "GkJ_5d3gaOIQ",
        "colab_type": "text"
      },
      "cell_type": "markdown",
      "source": [
        "#### Narrowband: Conv-3"
      ]
    },
    {
      "metadata": {
        "id": "KnIpBlfMfqIb",
        "colab_type": "code",
        "outputId": "7cbd1652-cf14-43c0-ee24-867f59a50814",
        "colab": {
          "base_uri": "https://localhost:8080/",
          "height": 1696
        }
      },
      "cell_type": "code",
      "source": [
        "%%time\n",
        "nblinear_conv3_params = {\n",
        "    'bs': 30,\n",
        "    'preprocess': preprocess_nb,\n",
        "    'epochs': 40,\n",
        "    'lr': 0.01,\n",
        "    'l2': 0.005\n",
        "}\n",
        "\n",
        "nblinear_conv3 = CVModel(data_df, 5, ROOT_PATH,\n",
        "                        nb_lin_transform, nb_image_transform,\n",
        "                        4)\n",
        "nblinear_conv3.train_cnn(nb_conv3_model,\n",
        "                        nblinear_conv3_params)"
      ],
      "execution_count": 0,
      "outputs": [
        {
          "output_type": "stream",
          "text": [
            "Fold 1 / 5:\n",
            "Training the model on the GPU\n",
            "Epoch: 0; Train loss: 10.553378269076347; Validation loss: 3.5221571922302246\n",
            "Epoch: 5; Train loss: 0.4575492702424526; Validation loss: 0.5646775960922241\n",
            "Epoch: 10; Train loss: 0.3641761261969805; Validation loss: 0.6798993349075317\n",
            "Epoch: 15; Train loss: 0.40281124971807003; Validation loss: 0.5462304949760437\n",
            "Epoch: 20; Train loss: 0.3812175281345844; Validation loss: 0.4601581394672394\n",
            "Epoch: 25; Train loss: 0.4349023699760437; Validation loss: 0.579267680644989\n",
            "Epoch: 30; Train loss: 0.4005952160805464; Validation loss: 0.43667182326316833\n",
            "Epoch: 35; Train loss: 0.43348994478583336; Validation loss: 0.45967164635658264\n",
            "----------------------------------------\n",
            "Accuracy: 83.92857142857143\n",
            "Confusion matrix:\n",
            " [[31  2]\n",
            " [ 7 16]]\n",
            "----------------------------------------\n",
            "Fold 2 / 5:\n",
            "Training the model on the GPU\n",
            "Epoch: 0; Train loss: 8.767217993736267; Validation loss: 3.2859854698181152\n",
            "Epoch: 5; Train loss: 0.6203789822757244; Validation loss: 0.4074184000492096\n",
            "Epoch: 10; Train loss: 0.46339448913931847; Validation loss: 0.3393528163433075\n",
            "Epoch: 15; Train loss: 0.490579079836607; Validation loss: 0.5258742570877075\n",
            "Epoch: 20; Train loss: 0.4048004299402237; Validation loss: 0.24418854713439941\n",
            "Epoch: 25; Train loss: 0.3659661952406168; Validation loss: 0.3964347839355469\n",
            "Epoch: 30; Train loss: 0.4773925766348839; Validation loss: 0.30637508630752563\n",
            "Epoch: 35; Train loss: 0.3770901747047901; Validation loss: 0.23622728884220123\n",
            "----------------------------------------\n",
            "Accuracy: 91.07142857142857\n",
            "Confusion matrix:\n",
            " [[29  4]\n",
            " [ 1 22]]\n",
            "----------------------------------------\n",
            "Fold 3 / 5:\n",
            "Training the model on the GPU\n",
            "Epoch: 0; Train loss: 11.230112932622433; Validation loss: 5.021022319793701\n",
            "Epoch: 5; Train loss: 0.9348211996257305; Validation loss: 0.6403453946113586\n",
            "Epoch: 10; Train loss: 0.4587199129164219; Validation loss: 0.6257559657096863\n",
            "Epoch: 15; Train loss: 0.3933558687567711; Validation loss: 0.493846595287323\n",
            "Epoch: 20; Train loss: 0.44132278487086296; Validation loss: 0.5862105488777161\n",
            "Epoch: 25; Train loss: 0.35478424467146397; Validation loss: 0.4991483986377716\n",
            "Epoch: 30; Train loss: 0.3214157186448574; Validation loss: 0.5188271403312683\n",
            "Epoch: 35; Train loss: 0.41129322350025177; Validation loss: 0.41490596532821655\n",
            "----------------------------------------\n",
            "Accuracy: 89.28571428571429\n",
            "Confusion matrix:\n",
            " [[30  3]\n",
            " [ 3 20]]\n",
            "----------------------------------------\n",
            "Fold 4 / 5:\n",
            "Training the model on the GPU\n",
            "Epoch: 0; Train loss: 6.974724739789963; Validation loss: 1.859833002090454\n",
            "Epoch: 5; Train loss: 0.47862131521105766; Validation loss: 0.36009401082992554\n",
            "Epoch: 10; Train loss: 0.44281237944960594; Validation loss: 0.498272567987442\n",
            "Epoch: 15; Train loss: 0.3570972681045532; Validation loss: 0.32578301429748535\n",
            "Epoch: 20; Train loss: 0.34918349981307983; Validation loss: 0.2998073995113373\n",
            "Epoch: 25; Train loss: 0.4122324287891388; Validation loss: 0.3111285865306854\n",
            "Epoch: 30; Train loss: 0.3385847918689251; Validation loss: 0.36351901292800903\n",
            "Epoch: 35; Train loss: 0.4002966582775116; Validation loss: 0.2963009476661682\n",
            "----------------------------------------\n",
            "Accuracy: 89.0909090909091\n",
            "Confusion matrix:\n",
            " [[33  0]\n",
            " [ 6 16]]\n",
            "----------------------------------------\n",
            "Fold 5 / 5:\n",
            "Training the model on the GPU\n",
            "Epoch: 0; Train loss: 12.778332568705082; Validation loss: 2.178253173828125\n",
            "Epoch: 5; Train loss: 0.4956048019230366; Validation loss: 0.41632595658302307\n",
            "Epoch: 10; Train loss: 0.4639880545437336; Validation loss: 0.5465876460075378\n",
            "Epoch: 15; Train loss: 0.47332458198070526; Validation loss: 0.5962666273117065\n",
            "Epoch: 20; Train loss: 0.4716534838080406; Validation loss: 0.3915747106075287\n",
            "Epoch: 25; Train loss: 0.36307814344763756; Validation loss: 0.3872648775577545\n",
            "Epoch: 30; Train loss: 0.37918340414762497; Validation loss: 0.4329351484775543\n",
            "Epoch: 35; Train loss: 0.37395238131284714; Validation loss: 0.3888355791568756\n",
            "----------------------------------------\n",
            "Accuracy: 83.33333333333333\n",
            "Confusion matrix:\n",
            " [[27  5]\n",
            " [ 4 18]]\n",
            "----------------------------------------\n",
            "========================================\n",
            "Accuracy scores: [83.92857142857143, 91.07142857142857, 89.28571428571429, 89.0909090909091, 83.33333333333333]\n",
            "Mean accuracy: 87.34199134199133\n",
            "Accuracy sd: 3.113398424823157\n",
            "Median accuracy: 89.0909090909091\n",
            "Confusion matrix:\n",
            "[[150  14]\n",
            " [ 21  92]]\n",
            "----------------------------------------\n",
            "Model parameters:\n",
            " {'bs': 30, 'preprocess': <function preprocess_nb at 0x7f9cac53d048>, 'epochs': 40, 'lr': 0.01, 'l2': 0.005}\n",
            "========================================\n",
            "CPU times: user 3min 20s, sys: 1min 14s, total: 4min 34s\n",
            "Wall time: 6min 12s\n"
          ],
          "name": "stdout"
        }
      ]
    },
    {
      "metadata": {
        "id": "chX-SVV5TGct",
        "colab_type": "code",
        "colab": {}
      },
      "cell_type": "code",
      "source": [
        "dill.dump(nblinear_conv3, open(MODEL_PATH / 'nblinear_conv3.p', 'wb'))"
      ],
      "execution_count": 0,
      "outputs": []
    },
    {
      "metadata": {
        "id": "cHM4eA8baTw7",
        "colab_type": "text"
      },
      "cell_type": "markdown",
      "source": [
        "#### Wideband: Conv-3"
      ]
    },
    {
      "metadata": {
        "id": "M0u_9bunfu0s",
        "colab_type": "code",
        "outputId": "fd773f13-9b5c-4e35-b27b-fa2c54e5d559",
        "colab": {
          "base_uri": "https://localhost:8080/",
          "height": 1696
        }
      },
      "cell_type": "code",
      "source": [
        "%%time\n",
        "wblinear_conv3_params = {\n",
        "    'bs': 30,\n",
        "    'preprocess': preprocess_wb,\n",
        "    'epochs': 40,\n",
        "    'lr': 0.01,\n",
        "    'l2': 0.005\n",
        "}\n",
        "\n",
        "wblinear_conv3 = CVModel(data_df, 5, ROOT_PATH,\n",
        "                        wb_lin_transform, wb_image_transform,\n",
        "                        4)\n",
        "wblinear_conv3.train_cnn(wb_conv3_model,\n",
        "                        wblinear_conv3_params)"
      ],
      "execution_count": 0,
      "outputs": [
        {
          "output_type": "stream",
          "text": [
            "Fold 1 / 5:\n",
            "Training the model on the GPU\n",
            "Epoch: 0; Train loss: 18.413176506757736; Validation loss: 4.949497699737549\n",
            "Epoch: 5; Train loss: 0.642618402838707; Validation loss: 0.7085475921630859\n",
            "Epoch: 10; Train loss: 0.3471695240586996; Validation loss: 0.48274993896484375\n",
            "Epoch: 15; Train loss: 0.3042116556316614; Validation loss: 0.49252867698669434\n",
            "Epoch: 20; Train loss: 0.34167800284922123; Validation loss: 0.5105725526809692\n",
            "Epoch: 25; Train loss: 0.31212384440004826; Validation loss: 0.5552797913551331\n",
            "Epoch: 30; Train loss: 0.3177145794034004; Validation loss: 0.4660327136516571\n",
            "Epoch: 35; Train loss: 0.3124060109257698; Validation loss: 0.5486910343170166\n",
            "----------------------------------------\n",
            "Accuracy: 82.14285714285714\n",
            "Confusion matrix:\n",
            " [[26  7]\n",
            " [ 3 20]]\n",
            "----------------------------------------\n",
            "Fold 2 / 5:\n",
            "Training the model on the GPU\n",
            "Epoch: 0; Train loss: 8.592124529182911; Validation loss: 2.3407154083251953\n",
            "Epoch: 5; Train loss: 0.5605775117874146; Validation loss: 0.3343760669231415\n",
            "Epoch: 10; Train loss: 0.4340296760201454; Validation loss: 0.3116180896759033\n",
            "Epoch: 15; Train loss: 0.47520139813423157; Validation loss: 0.35991790890693665\n",
            "Epoch: 20; Train loss: 0.41164930537343025; Validation loss: 0.33062005043029785\n",
            "Epoch: 25; Train loss: 0.41267450526356697; Validation loss: 0.308461993932724\n",
            "Epoch: 30; Train loss: 0.3961770161986351; Validation loss: 0.2567088305950165\n",
            "Epoch: 35; Train loss: 0.3370286962017417; Validation loss: 0.1991804838180542\n",
            "----------------------------------------\n",
            "Accuracy: 92.85714285714286\n",
            "Confusion matrix:\n",
            " [[32  1]\n",
            " [ 3 20]]\n",
            "----------------------------------------\n",
            "Fold 3 / 5:\n",
            "Training the model on the GPU\n",
            "Epoch: 0; Train loss: 9.562661603093147; Validation loss: 2.963789224624634\n",
            "Epoch: 5; Train loss: 0.519211683422327; Validation loss: 0.5057465434074402\n",
            "Epoch: 10; Train loss: 0.4920429140329361; Validation loss: 0.5173181891441345\n",
            "Epoch: 15; Train loss: 0.43557512387633324; Validation loss: 0.5108271837234497\n",
            "Epoch: 20; Train loss: 0.33973174169659615; Validation loss: 0.4988490641117096\n",
            "Epoch: 25; Train loss: 0.3620465975254774; Validation loss: 0.5257453322410583\n",
            "Epoch: 30; Train loss: 0.3463188298046589; Validation loss: 0.4157966673374176\n",
            "Epoch: 35; Train loss: 0.3950234279036522; Validation loss: 0.4315973222255707\n",
            "----------------------------------------\n",
            "Accuracy: 82.14285714285714\n",
            "Confusion matrix:\n",
            " [[27  6]\n",
            " [ 4 19]]\n",
            "----------------------------------------\n",
            "Fold 4 / 5:\n",
            "Training the model on the GPU\n",
            "Epoch: 0; Train loss: 16.514187566936016; Validation loss: 1.673237919807434\n",
            "Epoch: 5; Train loss: 0.613019734621048; Validation loss: 0.5440903306007385\n",
            "Epoch: 10; Train loss: 0.47864770889282227; Validation loss: 0.39851701259613037\n",
            "Epoch: 15; Train loss: 0.47015397250652313; Validation loss: 0.3415319323539734\n",
            "Epoch: 20; Train loss: 0.3742841351777315; Validation loss: 0.3480091392993927\n",
            "Epoch: 25; Train loss: 0.37912522070109844; Validation loss: 0.3424472212791443\n",
            "Epoch: 30; Train loss: 0.3849789462983608; Validation loss: 0.35965147614479065\n",
            "Epoch: 35; Train loss: 0.37028555385768414; Validation loss: 0.33441805839538574\n",
            "----------------------------------------\n",
            "Accuracy: 78.18181818181819\n",
            "Confusion matrix:\n",
            " [[33  0]\n",
            " [12 10]]\n",
            "----------------------------------------\n",
            "Fold 5 / 5:\n",
            "Training the model on the GPU\n",
            "Epoch: 0; Train loss: 9.690125465393066; Validation loss: 1.1094529628753662\n",
            "Epoch: 5; Train loss: 0.4142286591231823; Validation loss: 0.5175503492355347\n",
            "Epoch: 10; Train loss: 0.42520113848149776; Validation loss: 0.4639008343219757\n",
            "Epoch: 15; Train loss: 0.46777409687638283; Validation loss: 0.43714097142219543\n",
            "Epoch: 20; Train loss: 0.34561966452747583; Validation loss: 0.535759449005127\n",
            "Epoch: 25; Train loss: 0.4062710087746382; Validation loss: 0.5165513753890991\n",
            "Epoch: 30; Train loss: 0.3617517054080963; Validation loss: 0.30537569522857666\n",
            "Epoch: 35; Train loss: 0.41891326755285263; Validation loss: 0.3689076900482178\n",
            "----------------------------------------\n",
            "Accuracy: 85.18518518518519\n",
            "Confusion matrix:\n",
            " [[32  0]\n",
            " [ 8 14]]\n",
            "----------------------------------------\n",
            "========================================\n",
            "Accuracy scores: [82.14285714285714, 92.85714285714286, 82.14285714285714, 78.18181818181819, 85.18518518518519]\n",
            "Mean accuracy: 84.1019721019721\n",
            "Accuracy sd: 4.910210806476869\n",
            "Median accuracy: 82.14285714285714\n",
            "Confusion matrix:\n",
            "[[150  14]\n",
            " [ 30  83]]\n",
            "----------------------------------------\n",
            "Model parameters:\n",
            " {'bs': 30, 'preprocess': <function preprocess_wb at 0x7f9d201d7158>, 'epochs': 40, 'lr': 0.01, 'l2': 0.005}\n",
            "========================================\n",
            "CPU times: user 3min 56s, sys: 1min 57s, total: 5min 54s\n",
            "Wall time: 7min 33s\n"
          ],
          "name": "stdout"
        }
      ]
    },
    {
      "metadata": {
        "id": "RrqPi4nxVAxu",
        "colab_type": "code",
        "colab": {}
      },
      "cell_type": "code",
      "source": [
        "dill.dump(wblinear_conv3, open(MODEL_PATH / 'wblinear_conv3.p', 'wb'))"
      ],
      "execution_count": 0,
      "outputs": []
    },
    {
      "metadata": {
        "id": "XM33xRQLfzGP",
        "colab_type": "text"
      },
      "cell_type": "markdown",
      "source": [
        "#### Narrowband: Conv-5"
      ]
    },
    {
      "metadata": {
        "id": "UbgEoUTvf1_T",
        "colab_type": "code",
        "outputId": "4df97e63-b02a-418d-f0f5-1a0c99fc1b27",
        "colab": {
          "base_uri": "https://localhost:8080/",
          "height": 1696
        }
      },
      "cell_type": "code",
      "source": [
        "%%time\n",
        "nblinear_conv5_params = {\n",
        "    'bs': 30,\n",
        "    'preprocess': preprocess_nb,\n",
        "    'epochs': 40,\n",
        "    'lr': 0.01,\n",
        "    'l2': 0.005\n",
        "}\n",
        "\n",
        "nblinear_conv5 = CVModel(data_df, 5, ROOT_PATH,\n",
        "                        nb_lin_transform, nb_image_transform,\n",
        "                        4)\n",
        "nblinear_conv5.train_cnn(nb_conv5_model,\n",
        "                        nblinear_conv5_params)"
      ],
      "execution_count": 0,
      "outputs": [
        {
          "output_type": "stream",
          "text": [
            "Fold 1 / 5:\n",
            "Training the model on the GPU\n",
            "Epoch: 0; Train loss: 42.65596608072519; Validation loss: 0.680630624294281\n",
            "Epoch: 5; Train loss: 0.6744551435112953; Validation loss: 0.6773127317428589\n",
            "Epoch: 10; Train loss: 0.6794209331274033; Validation loss: 0.6782446503639221\n",
            "Epoch: 15; Train loss: 0.6753525659441948; Validation loss: 0.6773771047592163\n",
            "Epoch: 20; Train loss: 0.6746094077825546; Validation loss: 0.6784367561340332\n",
            "Epoch: 25; Train loss: 0.6731995269656181; Validation loss: 0.6773982048034668\n",
            "Epoch: 30; Train loss: 0.6798685565590858; Validation loss: 0.6772093176841736\n",
            "Epoch: 35; Train loss: 0.6862751841545105; Validation loss: 0.6772938370704651\n",
            "----------------------------------------\n",
            "Accuracy: 58.92857142857143\n",
            "Confusion matrix:\n",
            " [[33  0]\n",
            " [23  0]]\n",
            "----------------------------------------\n",
            "Fold 2 / 5:\n",
            "Training the model on the GPU\n",
            "Epoch: 0; Train loss: 25.222070202231407; Validation loss: 0.6865634918212891\n",
            "Epoch: 5; Train loss: 0.6815138459205627; Validation loss: 0.6472340822219849\n",
            "Epoch: 10; Train loss: 0.44995569065213203; Validation loss: 0.27833133935928345\n",
            "Epoch: 15; Train loss: 0.4723605737090111; Validation loss: 0.26686182618141174\n",
            "Epoch: 20; Train loss: 0.45397768542170525; Validation loss: 0.2758227586746216\n",
            "Epoch: 25; Train loss: 0.485091270878911; Validation loss: 0.3695051670074463\n",
            "Epoch: 30; Train loss: 0.35629026405513287; Validation loss: 0.2957971394062042\n",
            "Epoch: 35; Train loss: 0.35238639917224646; Validation loss: 0.15122489631175995\n",
            "----------------------------------------\n",
            "Accuracy: 89.28571428571429\n",
            "Confusion matrix:\n",
            " [[32  1]\n",
            " [ 5 18]]\n",
            "----------------------------------------\n",
            "Fold 3 / 5:\n",
            "Training the model on the GPU\n",
            "Epoch: 0; Train loss: 9.755082413554192; Validation loss: 0.6455840468406677\n",
            "Epoch: 5; Train loss: 0.5974968671798706; Validation loss: 0.6949944496154785\n",
            "Epoch: 10; Train loss: 0.5455740354955196; Validation loss: 0.7053772211074829\n",
            "Epoch: 15; Train loss: 0.5127357468008995; Validation loss: 0.7838537096977234\n",
            "Epoch: 20; Train loss: 0.5806725323200226; Validation loss: 0.92479008436203\n",
            "Epoch: 25; Train loss: 0.5793529152870178; Validation loss: 0.678828775882721\n",
            "Epoch: 30; Train loss: 0.5548551306128502; Validation loss: 0.6999418139457703\n",
            "Epoch: 35; Train loss: 0.5706825815141201; Validation loss: 0.6740107536315918\n",
            "----------------------------------------\n",
            "Accuracy: 66.07142857142857\n",
            "Confusion matrix:\n",
            " [[27  6]\n",
            " [13 10]]\n",
            "----------------------------------------\n",
            "Fold 4 / 5:\n",
            "Training the model on the GPU\n",
            "Epoch: 0; Train loss: 40.02953987568617; Validation loss: 0.6786421537399292\n",
            "Epoch: 5; Train loss: 0.5845716074109077; Validation loss: 0.5824564695358276\n",
            "Epoch: 10; Train loss: 0.46414298564195633; Validation loss: 0.41040635108947754\n",
            "Epoch: 15; Train loss: 0.4542422816157341; Validation loss: 0.5008699297904968\n",
            "Epoch: 20; Train loss: 0.3620943930000067; Validation loss: 0.32489368319511414\n",
            "Epoch: 25; Train loss: 0.36124864406883717; Validation loss: 0.33204415440559387\n",
            "Epoch: 30; Train loss: 0.3147953934967518; Validation loss: 0.26418131589889526\n",
            "Epoch: 35; Train loss: 0.334675258025527; Validation loss: 0.2837505042552948\n",
            "----------------------------------------\n",
            "Accuracy: 90.9090909090909\n",
            "Confusion matrix:\n",
            " [[32  1]\n",
            " [ 4 18]]\n",
            "----------------------------------------\n",
            "Fold 5 / 5:\n",
            "Training the model on the GPU\n",
            "Epoch: 0; Train loss: 20.37586186081171; Validation loss: 0.6634360551834106\n",
            "Epoch: 5; Train loss: 0.5350152030587196; Validation loss: 0.5854198932647705\n",
            "Epoch: 10; Train loss: 0.41367971897125244; Validation loss: 0.4210268259048462\n",
            "Epoch: 15; Train loss: 0.39625302143394947; Validation loss: 0.42745164036750793\n",
            "Epoch: 20; Train loss: 0.33060281351208687; Validation loss: 0.3902815282344818\n",
            "Epoch: 25; Train loss: 0.3119753636419773; Validation loss: 0.39052295684814453\n",
            "Epoch: 30; Train loss: 0.3936896566301584; Validation loss: 0.35919681191444397\n",
            "Epoch: 35; Train loss: 0.388275932520628; Validation loss: 0.4157157242298126\n",
            "----------------------------------------\n",
            "Accuracy: 83.33333333333333\n",
            "Confusion matrix:\n",
            " [[26  6]\n",
            " [ 3 19]]\n",
            "----------------------------------------\n",
            "========================================\n",
            "Accuracy scores: [58.92857142857143, 89.28571428571429, 66.07142857142857, 90.9090909090909, 83.33333333333333]\n",
            "Mean accuracy: 77.7056277056277\n",
            "Accuracy sd: 12.868825496723126\n",
            "Median accuracy: 83.33333333333333\n",
            "Confusion matrix:\n",
            "[[150  14]\n",
            " [ 48  65]]\n",
            "----------------------------------------\n",
            "Model parameters:\n",
            " {'bs': 30, 'preprocess': <function preprocess_nb at 0x7f9cac53d048>, 'epochs': 40, 'lr': 0.01, 'l2': 0.005}\n",
            "========================================\n",
            "CPU times: user 3min 10s, sys: 1min 9s, total: 4min 20s\n",
            "Wall time: 5min 58s\n"
          ],
          "name": "stdout"
        }
      ]
    },
    {
      "metadata": {
        "id": "1aJ5hsVyVGMN",
        "colab_type": "code",
        "colab": {}
      },
      "cell_type": "code",
      "source": [
        "dill.dump(nblinear_conv5, open(MODEL_PATH / 'nblinear_conv5.p', 'wb'))"
      ],
      "execution_count": 0,
      "outputs": []
    },
    {
      "metadata": {
        "id": "p6TLUcfagHh_",
        "colab_type": "text"
      },
      "cell_type": "markdown",
      "source": [
        "#### Wideband: Conv-5"
      ]
    },
    {
      "metadata": {
        "id": "LdlWILfNgPuE",
        "colab_type": "code",
        "outputId": "c74045c9-f3c6-428c-aa52-3576aaa37dc7",
        "colab": {
          "base_uri": "https://localhost:8080/",
          "height": 1696
        }
      },
      "cell_type": "code",
      "source": [
        "%%time\n",
        "wblinear_conv5_params = {\n",
        "    'bs': 30,\n",
        "    'preprocess': preprocess_wb,\n",
        "    'epochs': 40,\n",
        "    'lr': 0.005,\n",
        "    'l2': 0.005\n",
        "}\n",
        "\n",
        "wblinear_conv5 = CVModel(data_df, 5, ROOT_PATH,\n",
        "                        wb_lin_transform, wb_image_transform,\n",
        "                        4)\n",
        "wblinear_conv5.train_cnn(wb_conv5_model,\n",
        "                        wblinear_conv5_params)"
      ],
      "execution_count": 0,
      "outputs": [
        {
          "output_type": "stream",
          "text": [
            "Fold 1 / 5:\n",
            "Training the model on the GPU\n",
            "Epoch: 0; Train loss: 17.177576169371605; Validation loss: 0.670988917350769\n",
            "Epoch: 5; Train loss: 0.5114524066448212; Validation loss: 0.6389636993408203\n",
            "Epoch: 10; Train loss: 0.3983010873198509; Validation loss: 0.6288923025131226\n",
            "Epoch: 15; Train loss: 0.35657840967178345; Validation loss: 0.6040942072868347\n",
            "Epoch: 20; Train loss: 0.3423343114554882; Validation loss: 0.5483373403549194\n",
            "Epoch: 25; Train loss: 0.3097329679876566; Validation loss: 0.6370822191238403\n",
            "Epoch: 30; Train loss: 0.3300449922680855; Validation loss: 0.5301727056503296\n",
            "Epoch: 35; Train loss: 0.26728958124294877; Validation loss: 0.5527859330177307\n",
            "----------------------------------------\n",
            "Accuracy: 76.78571428571429\n",
            "Confusion matrix:\n",
            " [[26  7]\n",
            " [ 6 17]]\n",
            "----------------------------------------\n",
            "Fold 2 / 5:\n",
            "Training the model on the GPU\n",
            "Epoch: 0; Train loss: 11.39102479070425; Validation loss: 0.6936146020889282\n",
            "Epoch: 5; Train loss: 0.5383040644228458; Validation loss: 0.5015648603439331\n",
            "Epoch: 10; Train loss: 0.49276377260684967; Validation loss: 0.31351998448371887\n",
            "Epoch: 15; Train loss: 0.38653179444372654; Validation loss: 0.26795631647109985\n",
            "Epoch: 20; Train loss: 0.4211711473762989; Validation loss: 0.3571930229663849\n",
            "Epoch: 25; Train loss: 0.3708497826009989; Validation loss: 0.22895146906375885\n",
            "Epoch: 30; Train loss: 0.3009053822606802; Validation loss: 0.19931305944919586\n",
            "Epoch: 35; Train loss: 0.31695505790412426; Validation loss: 0.22046004235744476\n",
            "----------------------------------------\n",
            "Accuracy: 94.64285714285714\n",
            "Confusion matrix:\n",
            " [[32  1]\n",
            " [ 2 21]]\n",
            "----------------------------------------\n",
            "Fold 3 / 5:\n",
            "Training the model on the GPU\n",
            "Epoch: 0; Train loss: 13.591527298092842; Validation loss: 0.6962606310844421\n",
            "Epoch: 5; Train loss: 0.5392302423715591; Validation loss: 0.5763768553733826\n",
            "Epoch: 10; Train loss: 0.3926933463662863; Validation loss: 0.40721410512924194\n",
            "Epoch: 15; Train loss: 0.3808632455766201; Validation loss: 0.43195828795433044\n",
            "Epoch: 20; Train loss: 0.32189052551984787; Validation loss: 0.5400002598762512\n",
            "Epoch: 25; Train loss: 0.35456867329776287; Validation loss: 0.6091205477714539\n",
            "Epoch: 30; Train loss: 0.2774330321699381; Validation loss: 0.3824618458747864\n",
            "Epoch: 35; Train loss: 0.24573914613574743; Validation loss: 0.5147120356559753\n",
            "----------------------------------------\n",
            "Accuracy: 87.5\n",
            "Confusion matrix:\n",
            " [[32  1]\n",
            " [ 6 17]]\n",
            "----------------------------------------\n",
            "Fold 4 / 5:\n",
            "Training the model on the GPU\n",
            "Epoch: 0; Train loss: 8.448536224663258; Validation loss: 1.3381718397140503\n",
            "Epoch: 5; Train loss: 0.6070873066782951; Validation loss: 0.5766549706459045\n",
            "Epoch: 10; Train loss: 0.5794120654463768; Validation loss: 0.5631041526794434\n",
            "Epoch: 15; Train loss: 0.4317336156964302; Validation loss: 0.45435187220573425\n",
            "Epoch: 20; Train loss: 0.4160490743815899; Validation loss: 0.4685092866420746\n",
            "Epoch: 25; Train loss: 0.3770077545195818; Validation loss: 0.44838786125183105\n",
            "Epoch: 30; Train loss: 0.4090004898607731; Validation loss: 0.441120445728302\n",
            "Epoch: 35; Train loss: 0.31978789158165455; Validation loss: 0.4062931537628174\n",
            "----------------------------------------\n",
            "Accuracy: 87.27272727272727\n",
            "Confusion matrix:\n",
            " [[33  0]\n",
            " [ 7 15]]\n",
            "----------------------------------------\n",
            "Fold 5 / 5:\n",
            "Training the model on the GPU\n",
            "Epoch: 0; Train loss: 7.02142771333456; Validation loss: 0.6851082444190979\n",
            "Epoch: 5; Train loss: 0.5370944440364838; Validation loss: 0.5185445547103882\n",
            "Epoch: 10; Train loss: 0.4139893613755703; Validation loss: 0.4388578236103058\n",
            "Epoch: 15; Train loss: 0.4456729553639889; Validation loss: 0.42570337653160095\n",
            "Epoch: 20; Train loss: 0.42028437182307243; Validation loss: 0.4043961763381958\n",
            "Epoch: 25; Train loss: 0.3473285175859928; Validation loss: 0.3490825593471527\n",
            "Epoch: 30; Train loss: 0.3662072326987982; Validation loss: 0.332185298204422\n",
            "Epoch: 35; Train loss: 0.27896795608103275; Validation loss: 0.3164086937904358\n",
            "----------------------------------------\n",
            "Accuracy: 87.03703703703704\n",
            "Confusion matrix:\n",
            " [[32  0]\n",
            " [ 7 15]]\n",
            "----------------------------------------\n",
            "========================================\n",
            "Accuracy scores: [76.78571428571429, 94.64285714285714, 87.5, 87.27272727272727, 87.03703703703704]\n",
            "Mean accuracy: 86.64766714766715\n",
            "Accuracy sd: 5.699999257410832\n",
            "Median accuracy: 87.27272727272727\n",
            "Confusion matrix:\n",
            "[[155   9]\n",
            " [ 28  85]]\n",
            "----------------------------------------\n",
            "Model parameters:\n",
            " {'bs': 30, 'preprocess': <function preprocess_wb at 0x7f9d201d7158>, 'epochs': 40, 'lr': 0.005, 'l2': 0.005}\n",
            "========================================\n",
            "CPU times: user 3min 44s, sys: 1min 35s, total: 5min 20s\n",
            "Wall time: 6min 58s\n"
          ],
          "name": "stdout"
        }
      ]
    },
    {
      "metadata": {
        "id": "gVOxRcduVKfO",
        "colab_type": "code",
        "colab": {}
      },
      "cell_type": "code",
      "source": [
        "dill.dump(wblinear_conv5, open(MODEL_PATH / 'wblinear_conv5.p', 'wb'))"
      ],
      "execution_count": 0,
      "outputs": []
    },
    {
      "metadata": {
        "id": "cDNJMdL9bhR5",
        "colab_type": "text"
      },
      "cell_type": "markdown",
      "source": [
        "### Mel-scale STFT spectrograms"
      ]
    },
    {
      "metadata": {
        "id": "kvKk3_UBbrFR",
        "colab_type": "text"
      },
      "cell_type": "markdown",
      "source": [
        "`librosa.features.melspectrogram()` was used to extract a  [mel scaled](https://en.wikipedia.org/wiki/Mel_scale)  spectrogram by applying a mel filterbank of a specified size to the STFT frequency bin values.\n",
        "\n",
        "128 mel bands were used for narrowband spectrograms and 512 for wideband spectrograms. As with linear spectrograms values were log scaled and normalised to $[-1, 1]$. Images were resized to 37$\\times$50 pixels for narrowband spectrograms and 154$\\times$12 pixels for wideband spectrograms with Lanczos resampling"
      ]
    },
    {
      "metadata": {
        "id": "n0ZZndpAeemH",
        "colab_type": "code",
        "colab": {}
      },
      "cell_type": "code",
      "source": [
        "class MelSpectrogram(object):\n",
        "    \"\"\"\n",
        "    Creates a spectrogram from a raw audio signal using librosa\n",
        "    This isn't ideal but...\n",
        "    Args:\n",
        "        sr: sample rate\n",
        "        n_fft: size of fft\n",
        "    \"\"\"\n",
        "    def __init__(self, n_fft, n_mels, sr=16000, hop_length=None):\n",
        "        self.n_fft = n_fft\n",
        "        self.sr = sr\n",
        "        self.hop_length = hop_length if hop_length else self.n_fft // 2\n",
        "        self.n_mels = n_mels\n",
        "    \n",
        "    def __call__(self, sig):\n",
        "        stft = np.abs(librosa.feature.melspectrogram(sig, n_fft=self.n_fft,\n",
        "                                                     hop_length=self.hop_length,\n",
        "                                                     n_mels=self.n_mels))\n",
        "        spectrogram = librosa.amplitude_to_db(stft, ref=np.max)\n",
        "        return spectrogram"
      ],
      "execution_count": 0,
      "outputs": []
    },
    {
      "metadata": {
        "id": "WL2ld3NHf5D5",
        "colab_type": "code",
        "colab": {}
      },
      "cell_type": "code",
      "source": [
        "\"\"\"\n",
        "Parameters and transformations for narrowband mel STFT features\n",
        "\"\"\"\n",
        "nb_mel_params = {\n",
        "    'n_fft': 512,\n",
        "    'n_mels': 128\n",
        "}\n",
        "\n",
        "nb_mel_transform_librosa = transforms.Compose([\n",
        "    MelSpectrogram(n_fft=nb_mel_params['n_fft'],\n",
        "                  n_mels=nb_mel_params['n_mels'])\n",
        "])\n",
        "\n",
        "nb_mel_transform = transforms.Compose([\n",
        "    torchaudio.transforms.MelSpectrogram(ws=nb_mel_params['n_fft'],\n",
        "                                         n_mels=nb_mel_params['n_mels'])\n",
        "])\n",
        "\n",
        "nb_image_transform = transforms.Compose([\n",
        "    transforms.ToPILImage(),\n",
        "    transforms.Resize((37, 50), 4),\n",
        "    transforms.Grayscale(num_output_channels=1),\n",
        "    transforms.ToTensor(),\n",
        "    transforms.Normalize([0.5], [0.5])\n",
        "])"
      ],
      "execution_count": 0,
      "outputs": []
    },
    {
      "metadata": {
        "id": "XsitMRWzgy4g",
        "colab_type": "code",
        "colab": {}
      },
      "cell_type": "code",
      "source": [
        "\"\"\"\n",
        "Parameters and transformations for wideband mel STFT features\n",
        "\"\"\"\n",
        "wb_mel_params = {\n",
        "    'n_fft': 2048,\n",
        "    'n_mels': 512\n",
        "}\n",
        "\n",
        "wb_mel_transform_librosa = transforms.Compose([\n",
        "    MelSpectrogram(n_fft=wb_mel_params['n_fft'],\n",
        "                  n_mels=wb_mel_params['n_mels'])\n",
        "])\n",
        "\n",
        "wb_mel_transform = transforms.Compose([\n",
        "    torchaudio.transforms.MelSpectrogram(n_fft=wb_mel_params['n_fft'],\n",
        "                                         n_mels=wb_mel_params['n_mels'])\n",
        "])\n",
        "\n",
        "wb_image_transform = transforms.Compose([\n",
        "    transforms.ToPILImage(),\n",
        "    transforms.Resize((154, 12), 4),\n",
        "    transforms.Grayscale(num_output_channels=1),\n",
        "    transforms.ToTensor(),\n",
        "    transforms.Normalize([0.5], [0.5])\n",
        "])"
      ],
      "execution_count": 0,
      "outputs": []
    },
    {
      "metadata": {
        "id": "Tli0ElP2f3U1",
        "colab_type": "text"
      },
      "cell_type": "markdown",
      "source": [
        "#### Narrowband: Conv-3"
      ]
    },
    {
      "metadata": {
        "id": "1VaCFJbQgiiW",
        "colab_type": "code",
        "outputId": "73e81f1e-a2d5-4136-d904-1801daf903c2",
        "colab": {
          "base_uri": "https://localhost:8080/",
          "height": 1696
        }
      },
      "cell_type": "code",
      "source": [
        "%%time\n",
        "nbmel_conv3_params = {\n",
        "    'bs': 30,\n",
        "    'preprocess': preprocess_nb,\n",
        "    'epochs': 40,\n",
        "    'lr': 0.01,\n",
        "    'l2': 0.005\n",
        "}\n",
        "\n",
        "nbmel_conv3 = CVModel(data_df, 5, ROOT_PATH,\n",
        "                        nb_mel_transform, nb_image_transform,\n",
        "                        4)\n",
        "nbmel_conv3.train_cnn(nb_conv3_model,\n",
        "                        nbmel_conv3_params)"
      ],
      "execution_count": 69,
      "outputs": [
        {
          "output_type": "stream",
          "text": [
            "Fold 1 / 5:\n",
            "Training the model on the GPU\n",
            "Epoch: 0; Train loss: 3.5531594306230545; Validation loss: 0.9983188509941101\n",
            "Epoch: 5; Train loss: 0.6270651519298553; Validation loss: 0.6004046201705933\n",
            "Epoch: 10; Train loss: 0.3837098181247711; Validation loss: 0.5342199802398682\n",
            "Epoch: 15; Train loss: 0.3212292306125164; Validation loss: 0.46155664324760437\n",
            "Epoch: 20; Train loss: 0.40146012231707573; Validation loss: 0.4928207993507385\n",
            "Epoch: 25; Train loss: 0.3564945738762617; Validation loss: 0.4313277304172516\n",
            "Epoch: 30; Train loss: 0.30593835189938545; Validation loss: 0.4024800658226013\n",
            "Epoch: 35; Train loss: 0.3208653908222914; Validation loss: 0.45312443375587463\n",
            "----------------------------------------\n",
            "Accuracy: 85.71428571428571\n",
            "Confusion matrix:\n",
            " [[29  4]\n",
            " [ 4 19]]\n",
            "----------------------------------------\n",
            "Fold 2 / 5:\n",
            "Training the model on the GPU\n",
            "Epoch: 0; Train loss: 10.752555340528488; Validation loss: 0.7154332995414734\n",
            "Epoch: 5; Train loss: 0.6737291254103184; Validation loss: 0.6775937080383301\n",
            "Epoch: 10; Train loss: 0.4489016942679882; Validation loss: 0.3762679100036621\n",
            "Epoch: 15; Train loss: 0.4488413482904434; Validation loss: 0.2972903847694397\n",
            "Epoch: 20; Train loss: 0.42630887031555176; Validation loss: 0.2500283718109131\n",
            "Epoch: 25; Train loss: 0.40661533921957016; Validation loss: 0.24987031519412994\n",
            "Epoch: 30; Train loss: 0.4105531554669142; Validation loss: 0.3971174657344818\n",
            "Epoch: 35; Train loss: 0.3801871594041586; Validation loss: 0.2159806191921234\n",
            "----------------------------------------\n",
            "Accuracy: 94.64285714285714\n",
            "Confusion matrix:\n",
            " [[32  1]\n",
            " [ 2 21]]\n",
            "----------------------------------------\n",
            "Fold 3 / 5:\n",
            "Training the model on the GPU\n",
            "Epoch: 0; Train loss: 13.89323192089796; Validation loss: 0.6754876971244812\n",
            "Epoch: 5; Train loss: 0.5052334293723106; Validation loss: 0.6261258125305176\n",
            "Epoch: 10; Train loss: 0.41151486337184906; Validation loss: 0.4035782814025879\n",
            "Epoch: 15; Train loss: 0.306746331974864; Validation loss: 0.3732535243034363\n",
            "Epoch: 20; Train loss: 0.37580592557787895; Validation loss: 0.3926111161708832\n",
            "Epoch: 25; Train loss: 0.43073594383895397; Validation loss: 0.43553677201271057\n",
            "Epoch: 30; Train loss: 0.29102903977036476; Validation loss: 0.3587537109851837\n",
            "Epoch: 35; Train loss: 0.34247991628944874; Validation loss: 0.38549524545669556\n",
            "----------------------------------------\n",
            "Accuracy: 94.64285714285714\n",
            "Confusion matrix:\n",
            " [[32  1]\n",
            " [ 2 21]]\n",
            "----------------------------------------\n",
            "Fold 4 / 5:\n",
            "Training the model on the GPU\n",
            "Epoch: 0; Train loss: 8.176667295396328; Validation loss: 0.6693366765975952\n",
            "Epoch: 5; Train loss: 0.6573103442788124; Validation loss: 0.6386620998382568\n",
            "Epoch: 10; Train loss: 0.5969843417406082; Validation loss: 0.45143386721611023\n",
            "Epoch: 15; Train loss: 0.5049832742661238; Validation loss: 0.48928138613700867\n",
            "Epoch: 20; Train loss: 0.49661062099039555; Validation loss: 0.37265878915786743\n",
            "Epoch: 25; Train loss: 0.4311053827404976; Validation loss: 0.27252519130706787\n",
            "Epoch: 30; Train loss: 0.3764797206968069; Validation loss: 0.2615742087364197\n",
            "Epoch: 35; Train loss: 0.39839559979736805; Validation loss: 0.3140905499458313\n",
            "----------------------------------------\n",
            "Accuracy: 92.72727272727273\n",
            "Confusion matrix:\n",
            " [[33  0]\n",
            " [ 4 18]]\n",
            "----------------------------------------\n",
            "Fold 5 / 5:\n",
            "Training the model on the GPU\n",
            "Epoch: 0; Train loss: 8.58653111755848; Validation loss: 0.7092421054840088\n",
            "Epoch: 5; Train loss: 0.6296752244234085; Validation loss: 0.5882822871208191\n",
            "Epoch: 10; Train loss: 0.5455685220658779; Validation loss: 0.43454107642173767\n",
            "Epoch: 15; Train loss: 0.4904622621834278; Validation loss: 0.48216089606285095\n",
            "Epoch: 20; Train loss: 0.4228729046881199; Validation loss: 0.42009830474853516\n",
            "Epoch: 25; Train loss: 0.39787033945322037; Validation loss: 0.3650224208831787\n",
            "Epoch: 30; Train loss: 0.4651302359998226; Validation loss: 0.3433602750301361\n",
            "Epoch: 35; Train loss: 0.3754085525870323; Validation loss: 0.3491344749927521\n",
            "----------------------------------------\n",
            "Accuracy: 90.74074074074075\n",
            "Confusion matrix:\n",
            " [[31  1]\n",
            " [ 4 18]]\n",
            "----------------------------------------\n",
            "========================================\n",
            "Accuracy scores: [85.71428571428571, 94.64285714285714, 94.64285714285714, 92.72727272727273, 90.74074074074075]\n",
            "Mean accuracy: 91.6936026936027\n",
            "Accuracy sd: 3.320387169947564\n",
            "Median accuracy: 92.72727272727273\n",
            "Confusion matrix:\n",
            "[[157   7]\n",
            " [ 16  97]]\n",
            "----------------------------------------\n",
            "Model parameters:\n",
            " {'bs': 30, 'preprocess': <function preprocess_nb at 0x7f7daab81d90>, 'epochs': 40, 'lr': 0.01, 'l2': 0.005}\n",
            "========================================\n",
            "CPU times: user 3min 13s, sys: 1min 18s, total: 4min 31s\n",
            "Wall time: 6min 17s\n"
          ],
          "name": "stdout"
        }
      ]
    },
    {
      "metadata": {
        "id": "FrAupjL_gwlz",
        "colab_type": "text"
      },
      "cell_type": "markdown",
      "source": [
        "#### Wideband: Conv-3"
      ]
    },
    {
      "metadata": {
        "id": "bcX-iMnwgo-n",
        "colab_type": "code",
        "outputId": "2f7e78b9-355f-429e-c540-a73ae94b2af8",
        "colab": {
          "base_uri": "https://localhost:8080/",
          "height": 1696
        }
      },
      "cell_type": "code",
      "source": [
        "%%time\n",
        "wbmel_conv3_params = {\n",
        "    'bs': 30,\n",
        "    'preprocess': preprocess_wb,\n",
        "    'epochs': 40,\n",
        "    'lr': 0.01,\n",
        "    'l2': 0.005\n",
        "}\n",
        "\n",
        "wbmel_conv3 = CVModel(data_df, 5, ROOT_PATH,\n",
        "                        wb_mel_transform, wb_image_transform,\n",
        "                        4)\n",
        "wbmel_conv3.train_cnn(wb_conv3_model,\n",
        "                        wbmel_conv3_params)"
      ],
      "execution_count": 70,
      "outputs": [
        {
          "output_type": "stream",
          "text": [
            "Fold 1 / 5:\n",
            "Training the model on the GPU\n",
            "Epoch: 0; Train loss: 8.02089824527502; Validation loss: 0.8315762281417847\n",
            "Epoch: 5; Train loss: 0.4178360402584076; Validation loss: 0.5066192150115967\n",
            "Epoch: 10; Train loss: 0.3578138221055269; Validation loss: 0.4908543527126312\n",
            "Epoch: 15; Train loss: 0.344498660415411; Validation loss: 0.4617886245250702\n",
            "Epoch: 20; Train loss: 0.4585804156959057; Validation loss: 0.4398147165775299\n",
            "Epoch: 25; Train loss: 0.3964376412332058; Validation loss: 0.4179947078227997\n",
            "Epoch: 30; Train loss: 0.456556037068367; Validation loss: 0.5084490180015564\n",
            "Epoch: 35; Train loss: 0.2647241670638323; Validation loss: 0.4532468318939209\n",
            "----------------------------------------\n",
            "Accuracy: 80.35714285714286\n",
            "Confusion matrix:\n",
            " [[28  5]\n",
            " [ 6 17]]\n",
            "----------------------------------------\n",
            "Fold 2 / 5:\n",
            "Training the model on the GPU\n",
            "Epoch: 0; Train loss: 11.23693172633648; Validation loss: 0.7078632116317749\n",
            "Epoch: 5; Train loss: 0.6140270158648491; Validation loss: 0.5097405314445496\n",
            "Epoch: 10; Train loss: 0.4567999988794327; Validation loss: 0.3775234520435333\n",
            "Epoch: 15; Train loss: 0.5124591998755932; Validation loss: 0.3138938546180725\n",
            "Epoch: 20; Train loss: 0.47066064178943634; Validation loss: 0.28867730498313904\n",
            "Epoch: 25; Train loss: 0.4022378623485565; Validation loss: 0.26708269119262695\n",
            "Epoch: 30; Train loss: 0.4607020504772663; Validation loss: 0.30132248997688293\n",
            "Epoch: 35; Train loss: 0.3929820545017719; Validation loss: 0.22012080252170563\n",
            "----------------------------------------\n",
            "Accuracy: 91.07142857142857\n",
            "Confusion matrix:\n",
            " [[33  0]\n",
            " [ 5 18]]\n",
            "----------------------------------------\n",
            "Fold 3 / 5:\n",
            "Training the model on the GPU\n",
            "Epoch: 0; Train loss: 10.602620169520378; Validation loss: 0.724637508392334\n",
            "Epoch: 5; Train loss: 0.5775801241397858; Validation loss: 0.5629138946533203\n",
            "Epoch: 10; Train loss: 0.3659992963075638; Validation loss: 0.437006413936615\n",
            "Epoch: 15; Train loss: 0.43068203888833523; Validation loss: 0.5478965044021606\n",
            "Epoch: 20; Train loss: 0.3951714523136616; Validation loss: 0.4242992699146271\n",
            "Epoch: 25; Train loss: 0.3560648690909147; Validation loss: 0.3709734082221985\n",
            "Epoch: 30; Train loss: 0.38455056212842464; Validation loss: 0.4067756235599518\n",
            "Epoch: 35; Train loss: 0.3436414711177349; Validation loss: 0.3673993945121765\n",
            "----------------------------------------\n",
            "Accuracy: 87.5\n",
            "Confusion matrix:\n",
            " [[32  1]\n",
            " [ 6 17]]\n",
            "----------------------------------------\n",
            "Fold 4 / 5:\n",
            "Training the model on the GPU\n",
            "Epoch: 0; Train loss: 14.795411176979542; Validation loss: 0.901516318321228\n",
            "Epoch: 5; Train loss: 0.6464216485619545; Validation loss: 0.5628818273544312\n",
            "Epoch: 10; Train loss: 0.450188972055912; Validation loss: 0.318807452917099\n",
            "Epoch: 15; Train loss: 0.42405810579657555; Validation loss: 0.2858049273490906\n",
            "Epoch: 20; Train loss: 0.43368668109178543; Validation loss: 0.33419743180274963\n",
            "Epoch: 25; Train loss: 0.39530525729060173; Validation loss: 0.29393941164016724\n",
            "Epoch: 30; Train loss: 0.44731159694492817; Validation loss: 0.26685208082199097\n",
            "Epoch: 35; Train loss: 0.37477967143058777; Validation loss: 0.29741916060447693\n",
            "----------------------------------------\n",
            "Accuracy: 90.9090909090909\n",
            "Confusion matrix:\n",
            " [[32  1]\n",
            " [ 4 18]]\n",
            "----------------------------------------\n",
            "Fold 5 / 5:\n",
            "Training the model on the GPU\n",
            "Epoch: 0; Train loss: 9.02938935905695; Validation loss: 0.678970992565155\n",
            "Epoch: 5; Train loss: 0.61528280377388; Validation loss: 0.5808168053627014\n",
            "Epoch: 10; Train loss: 0.4367194063961506; Validation loss: 0.34797897934913635\n",
            "Epoch: 15; Train loss: 0.4266967885196209; Validation loss: 0.3838329315185547\n",
            "Epoch: 20; Train loss: 0.41123082116246223; Validation loss: 0.35637205839157104\n",
            "Epoch: 25; Train loss: 0.38294171914458275; Validation loss: 0.31348559260368347\n",
            "Epoch: 30; Train loss: 0.3709770143032074; Validation loss: 0.3178698718547821\n",
            "Epoch: 35; Train loss: 0.3548994977027178; Validation loss: 0.29245448112487793\n",
            "----------------------------------------\n",
            "Accuracy: 90.74074074074075\n",
            "Confusion matrix:\n",
            " [[32  0]\n",
            " [ 5 17]]\n",
            "----------------------------------------\n",
            "========================================\n",
            "Accuracy scores: [80.35714285714286, 91.07142857142857, 87.5, 90.9090909090909, 90.74074074074075]\n",
            "Mean accuracy: 88.11568061568062\n",
            "Accuracy sd: 4.09889005650555\n",
            "Median accuracy: 90.74074074074075\n",
            "Confusion matrix:\n",
            "[[157   7]\n",
            " [ 26  87]]\n",
            "----------------------------------------\n",
            "Model parameters:\n",
            " {'bs': 30, 'preprocess': <function preprocess_wb at 0x7f7daab89950>, 'epochs': 40, 'lr': 0.01, 'l2': 0.005}\n",
            "========================================\n",
            "CPU times: user 5min 36s, sys: 2min 38s, total: 8min 15s\n",
            "Wall time: 10min 4s\n"
          ],
          "name": "stdout"
        }
      ]
    },
    {
      "metadata": {
        "id": "dbgBTmy7gt3s",
        "colab_type": "text"
      },
      "cell_type": "markdown",
      "source": [
        "#### Narrowband: Conv-5"
      ]
    },
    {
      "metadata": {
        "id": "9O64DcP-gwne",
        "colab_type": "code",
        "outputId": "83ae0ddc-b427-48d4-ab3a-787b4eea86a3",
        "colab": {
          "base_uri": "https://localhost:8080/",
          "height": 1696
        }
      },
      "cell_type": "code",
      "source": [
        "%%time\n",
        "nbmel_conv5_params = {\n",
        "    'bs': 30,\n",
        "    'preprocess': preprocess_nb,\n",
        "    'epochs': 40,\n",
        "    'lr': 0.001,\n",
        "    'l2': 0.005\n",
        "}\n",
        "\n",
        "nbmel_conv5 = CVModel(data_df, 5, ROOT_PATH,\n",
        "                        nb_mel_transform, nb_image_transform,\n",
        "                        4)\n",
        "nbmel_conv5.train_cnn(nb_conv5_model,\n",
        "                        nbmel_conv5_params)"
      ],
      "execution_count": 71,
      "outputs": [
        {
          "output_type": "stream",
          "text": [
            "Fold 1 / 5:\n",
            "Training the model on the GPU\n",
            "Epoch: 0; Train loss: 4.316952563822269; Validation loss: 0.7452989220619202\n",
            "Epoch: 5; Train loss: 0.5837106108665466; Validation loss: 0.6094796061515808\n",
            "Epoch: 10; Train loss: 0.47958916425704956; Validation loss: 0.5356512069702148\n",
            "Epoch: 15; Train loss: 0.2922834288328886; Validation loss: 0.45733097195625305\n",
            "Epoch: 20; Train loss: 0.27871607430279255; Validation loss: 0.4439385235309601\n",
            "Epoch: 25; Train loss: 0.27274851873517036; Validation loss: 0.4314848482608795\n",
            "Epoch: 30; Train loss: 0.29386975336819887; Validation loss: 0.43496063351631165\n",
            "Epoch: 35; Train loss: 0.26897110557183623; Validation loss: 0.43667322397232056\n",
            "----------------------------------------\n",
            "Accuracy: 78.57142857142857\n",
            "Confusion matrix:\n",
            " [[24  9]\n",
            " [ 3 20]]\n",
            "----------------------------------------\n",
            "Fold 2 / 5:\n",
            "Training the model on the GPU\n",
            "Epoch: 0; Train loss: 1.8532084450125694; Validation loss: 0.6888819932937622\n",
            "Epoch: 5; Train loss: 0.5916326120495796; Validation loss: 0.5838842391967773\n",
            "Epoch: 10; Train loss: 0.3838562108576298; Validation loss: 0.4513613283634186\n",
            "Epoch: 15; Train loss: 0.4206526465713978; Validation loss: 0.43875280022621155\n",
            "Epoch: 20; Train loss: 0.3392818905413151; Validation loss: 0.34969231486320496\n",
            "Epoch: 25; Train loss: 0.35010168701410294; Validation loss: 0.3674742579460144\n",
            "Epoch: 30; Train loss: 0.2905489206314087; Validation loss: 0.3036874830722809\n",
            "Epoch: 35; Train loss: 0.278277138248086; Validation loss: 0.27821996808052063\n",
            "----------------------------------------\n",
            "Accuracy: 91.07142857142857\n",
            "Confusion matrix:\n",
            " [[33  0]\n",
            " [ 5 18]]\n",
            "----------------------------------------\n",
            "Fold 3 / 5:\n",
            "Training the model on the GPU\n",
            "Epoch: 0; Train loss: 3.244695357978344; Validation loss: 0.7076187133789062\n",
            "Epoch: 5; Train loss: 0.6558804586529732; Validation loss: 0.6609936356544495\n",
            "Epoch: 10; Train loss: 0.43697312101721764; Validation loss: 0.4897870719432831\n",
            "Epoch: 15; Train loss: 0.3410356119275093; Validation loss: 0.39785152673721313\n",
            "Epoch: 20; Train loss: 0.3165501728653908; Validation loss: 0.399103581905365\n",
            "Epoch: 25; Train loss: 0.3023094218224287; Validation loss: 0.4401720464229584\n",
            "Epoch: 30; Train loss: 0.2875554896891117; Validation loss: 0.40655654668807983\n",
            "Epoch: 35; Train loss: 0.266112370416522; Validation loss: 0.42189669609069824\n",
            "----------------------------------------\n",
            "Accuracy: 82.14285714285714\n",
            "Confusion matrix:\n",
            " [[26  7]\n",
            " [ 3 20]]\n",
            "----------------------------------------\n",
            "Fold 4 / 5:\n",
            "Training the model on the GPU\n",
            "Epoch: 0; Train loss: 1.6932627633213997; Validation loss: 0.5975269675254822\n",
            "Epoch: 5; Train loss: 0.47615882381796837; Validation loss: 0.4000842273235321\n",
            "Epoch: 10; Train loss: 0.41230885684490204; Validation loss: 0.3691250681877136\n",
            "Epoch: 15; Train loss: 0.34327120892703533; Validation loss: 0.3265254497528076\n",
            "Epoch: 20; Train loss: 0.30859996005892754; Validation loss: 0.3263513147830963\n",
            "Epoch: 25; Train loss: 0.3109591081738472; Validation loss: 0.445442259311676\n",
            "Epoch: 30; Train loss: 0.23702793382108212; Validation loss: 0.3740832805633545\n",
            "Epoch: 35; Train loss: 0.2365509383380413; Validation loss: 0.3501504063606262\n",
            "----------------------------------------\n",
            "Accuracy: 87.27272727272727\n",
            "Confusion matrix:\n",
            " [[28  5]\n",
            " [ 2 20]]\n",
            "----------------------------------------\n",
            "Fold 5 / 5:\n",
            "Training the model on the GPU\n",
            "Epoch: 0; Train loss: 6.969437815248966; Validation loss: 0.6647891402244568\n",
            "Epoch: 5; Train loss: 0.6510454937815666; Validation loss: 0.6455051898956299\n",
            "Epoch: 10; Train loss: 0.44510843977332115; Validation loss: 0.46982255578041077\n",
            "Epoch: 15; Train loss: 0.3817606084048748; Validation loss: 0.40302789211273193\n",
            "Epoch: 20; Train loss: 0.3340392950922251; Validation loss: 0.404602974653244\n",
            "Epoch: 25; Train loss: 0.30940649658441544; Validation loss: 0.4591975510120392\n",
            "Epoch: 30; Train loss: 0.38841625954955816; Validation loss: 0.4313264489173889\n",
            "Epoch: 35; Train loss: 0.276888657361269; Validation loss: 0.3786390721797943\n",
            "----------------------------------------\n",
            "Accuracy: 85.18518518518519\n",
            "Confusion matrix:\n",
            " [[29  3]\n",
            " [ 5 17]]\n",
            "----------------------------------------\n",
            "========================================\n",
            "Accuracy scores: [78.57142857142857, 91.07142857142857, 82.14285714285714, 87.27272727272727, 85.18518518518519]\n",
            "Mean accuracy: 84.84872534872534\n",
            "Accuracy sd: 4.276381730499409\n",
            "Median accuracy: 85.18518518518519\n",
            "Confusion matrix:\n",
            "[[140  24]\n",
            " [ 18  95]]\n",
            "----------------------------------------\n",
            "Model parameters:\n",
            " {'bs': 30, 'preprocess': <function preprocess_nb at 0x7f7daab81d90>, 'epochs': 40, 'lr': 0.001, 'l2': 0.005}\n",
            "========================================\n",
            "CPU times: user 3min 5s, sys: 1min 5s, total: 4min 11s\n",
            "Wall time: 5min 57s\n"
          ],
          "name": "stdout"
        }
      ]
    },
    {
      "metadata": {
        "id": "GHI1GYbigzmy",
        "colab_type": "text"
      },
      "cell_type": "markdown",
      "source": [
        "#### Wideband: Conv-5"
      ]
    },
    {
      "metadata": {
        "id": "DAvS3hWrg1gZ",
        "colab_type": "code",
        "outputId": "daee577b-df59-4a04-fd55-aecfe0e61332",
        "colab": {
          "base_uri": "https://localhost:8080/",
          "height": 1696
        }
      },
      "cell_type": "code",
      "source": [
        "%%time\n",
        "wbmel_conv5_params = {\n",
        "    'bs': 30,\n",
        "    'preprocess': preprocess_wb,\n",
        "    'epochs': 40,\n",
        "    'lr': 0.001,\n",
        "    'l2': 0.005\n",
        "}\n",
        "\n",
        "wbmel_conv5 = CVModel(data_df, 5, ROOT_PATH,\n",
        "                        wb_mel_transform, wb_image_transform,\n",
        "                        4)\n",
        "wbmel_conv5.train_cnn(wb_conv5_model,\n",
        "                        wbmel_conv5_params)"
      ],
      "execution_count": 72,
      "outputs": [
        {
          "output_type": "stream",
          "text": [
            "Fold 1 / 5:\n",
            "Training the model on the GPU\n",
            "Epoch: 0; Train loss: 1.5870658680796623; Validation loss: 0.6638087034225464\n",
            "Epoch: 5; Train loss: 0.5915148854255676; Validation loss: 0.5896002054214478\n",
            "Epoch: 10; Train loss: 0.36272239312529564; Validation loss: 0.5266773104667664\n",
            "Epoch: 15; Train loss: 0.27162212785333395; Validation loss: 0.5958477258682251\n",
            "Epoch: 20; Train loss: 0.2665310110896826; Validation loss: 0.5806732177734375\n",
            "Epoch: 25; Train loss: 0.31096833758056164; Validation loss: 0.5406720042228699\n",
            "Epoch: 30; Train loss: 0.22247363440692425; Validation loss: 0.514689028263092\n",
            "Epoch: 35; Train loss: 0.22438517771661282; Validation loss: 0.5663996934890747\n",
            "----------------------------------------\n",
            "Accuracy: 85.71428571428571\n",
            "Confusion matrix:\n",
            " [[28  5]\n",
            " [ 3 20]]\n",
            "----------------------------------------\n",
            "Fold 2 / 5:\n",
            "Training the model on the GPU\n",
            "Epoch: 0; Train loss: 2.4865777865052223; Validation loss: 0.7416256666183472\n",
            "Epoch: 5; Train loss: 0.6645917072892189; Validation loss: 0.6384423971176147\n",
            "Epoch: 10; Train loss: 0.5019576326012611; Validation loss: 0.4782649576663971\n",
            "Epoch: 15; Train loss: 0.40656207501888275; Validation loss: 0.3444400131702423\n",
            "Epoch: 20; Train loss: 0.3953422512859106; Validation loss: 0.37244346737861633\n",
            "Epoch: 25; Train loss: 0.36055608093738556; Validation loss: 0.30389803647994995\n",
            "Epoch: 30; Train loss: 0.35491954162716866; Validation loss: 0.3121393024921417\n",
            "Epoch: 35; Train loss: 0.30969392601400614; Validation loss: 0.27049073576927185\n",
            "----------------------------------------\n",
            "Accuracy: 91.07142857142857\n",
            "Confusion matrix:\n",
            " [[31  2]\n",
            " [ 3 20]]\n",
            "----------------------------------------\n",
            "Fold 3 / 5:\n",
            "Training the model on the GPU\n",
            "Epoch: 0; Train loss: 3.1801353320479393; Validation loss: 0.7408766150474548\n",
            "Epoch: 5; Train loss: 0.6348630636930466; Validation loss: 0.6407529711723328\n",
            "Epoch: 10; Train loss: 0.45824864879250526; Validation loss: 0.4820482134819031\n",
            "Epoch: 15; Train loss: 0.413167342543602; Validation loss: 0.455352246761322\n",
            "Epoch: 20; Train loss: 0.33048868365585804; Validation loss: 0.4382924437522888\n",
            "Epoch: 25; Train loss: 0.3427269160747528; Validation loss: 0.44552746415138245\n",
            "Epoch: 30; Train loss: 0.30965927988290787; Validation loss: 0.433785617351532\n",
            "Epoch: 35; Train loss: 0.2753588231280446; Validation loss: 0.41121309995651245\n",
            "----------------------------------------\n",
            "Accuracy: 85.71428571428571\n",
            "Confusion matrix:\n",
            " [[27  6]\n",
            " [ 2 21]]\n",
            "----------------------------------------\n",
            "Fold 4 / 5:\n",
            "Training the model on the GPU\n",
            "Epoch: 0; Train loss: 2.491496928036213; Validation loss: 0.6881341934204102\n",
            "Epoch: 5; Train loss: 0.6366036310791969; Validation loss: 0.607786238193512\n",
            "Epoch: 10; Train loss: 0.44082966446876526; Validation loss: 0.38964834809303284\n",
            "Epoch: 15; Train loss: 0.434431716799736; Validation loss: 0.3849586844444275\n",
            "Epoch: 20; Train loss: 0.3158551249653101; Validation loss: 0.3312869369983673\n",
            "Epoch: 25; Train loss: 0.3164057917892933; Validation loss: 0.3667055070400238\n",
            "Epoch: 30; Train loss: 0.2983346898108721; Validation loss: 0.3739282488822937\n",
            "Epoch: 35; Train loss: 0.36450895108282566; Validation loss: 0.39909419417381287\n",
            "----------------------------------------\n",
            "Accuracy: 87.27272727272727\n",
            "Confusion matrix:\n",
            " [[28  5]\n",
            " [ 2 20]]\n",
            "----------------------------------------\n",
            "Fold 5 / 5:\n",
            "Training the model on the GPU\n",
            "Epoch: 0; Train loss: 1.8866082951426506; Validation loss: 0.6720851063728333\n",
            "Epoch: 5; Train loss: 0.5829197652637959; Validation loss: 0.6180509924888611\n",
            "Epoch: 10; Train loss: 0.3891764283180237; Validation loss: 0.47288501262664795\n",
            "Epoch: 15; Train loss: 0.35571514070034027; Validation loss: 0.5250148177146912\n",
            "Epoch: 20; Train loss: 0.34642905555665493; Validation loss: 0.5185629725456238\n",
            "Epoch: 25; Train loss: 0.3091921489685774; Validation loss: 0.5133414268493652\n",
            "Epoch: 30; Train loss: 0.34078733436763287; Validation loss: 0.5105810761451721\n",
            "Epoch: 35; Train loss: 0.400656184181571; Validation loss: 0.47993114590644836\n",
            "----------------------------------------\n",
            "Accuracy: 77.77777777777777\n",
            "Confusion matrix:\n",
            " [[32  0]\n",
            " [12 10]]\n",
            "----------------------------------------\n",
            "========================================\n",
            "Accuracy scores: [85.71428571428571, 91.07142857142857, 85.71428571428571, 87.27272727272727, 77.77777777777777]\n",
            "Mean accuracy: 85.51010101010101\n",
            "Accuracy sd: 4.333760974997422\n",
            "Median accuracy: 85.71428571428571\n",
            "Confusion matrix:\n",
            "[[146  18]\n",
            " [ 22  91]]\n",
            "----------------------------------------\n",
            "Model parameters:\n",
            " {'bs': 30, 'preprocess': <function preprocess_wb at 0x7f7daab89950>, 'epochs': 40, 'lr': 0.001, 'l2': 0.005}\n",
            "========================================\n",
            "CPU times: user 5min 27s, sys: 2min 20s, total: 7min 47s\n",
            "Wall time: 9min 37s\n"
          ],
          "name": "stdout"
        }
      ]
    },
    {
      "metadata": {
        "id": "aMiXtS1u8V5p",
        "colab_type": "text"
      },
      "cell_type": "markdown",
      "source": [
        "## Mel Frequency Cepstral Coefficients (MFCCs)"
      ]
    },
    {
      "metadata": {
        "id": "tWRIYAq-k4L4",
        "colab_type": "text"
      },
      "cell_type": "markdown",
      "source": [
        "Along with the four spectral features, mel-frequency cepstral coefficients were also extracted from the raw audio. Per Huzaifah (2017: 2) these were 'obtained using the standard procedure'. That is by:\n",
        "Huzaifah (2017: 2) writes that 'MFCCs were obtained using the standard procedure'. That is by:\n",
        "\n",
        "1. Computing the STFT of the signal\n",
        "2. Applying a mel filterbank to the power spectrum of the signal, producing the mel-scaled STFT\n",
        "3. Taking the logarithm of the powers of each mel frequency\n",
        "4. Taking the Discrete Cosine Transform of the list of log mel powers.\n",
        "\n",
        "There is no implementation of MFCCs in `torchaudio`. As a result, `librosa` was used here. The default behaviour of `librosa.feature.mfcc` is to only return the first 20 MFCCs. This was left unchanged as it was assumed to be the approach used by Huzaifah. MFCC values were normalised to $[-1, 1]$ and the image resized to 37$\\times$50 pixels with Lanczos resampling."
      ]
    },
    {
      "metadata": {
        "id": "Z30Jfr-7oimd",
        "colab_type": "code",
        "colab": {}
      },
      "cell_type": "code",
      "source": [
        "class MFCC(object):\n",
        "    \"\"\"\n",
        "    Gets MFCCs from a raw audio signal using librosa\n",
        "    Args:\n",
        "        sr: sample rate\n",
        "        n_fft: size of fft\n",
        "    \"\"\"\n",
        "    def __init__(self, sr=16000, n_mfcc=20):\n",
        "        self.sr = sr\n",
        "        self.n_mfcc = n_mfcc\n",
        "    \n",
        "    def __call__(self, sig):\n",
        "        mfcc = librosa.feature.mfcc(sig, sr=self.sr, n_mfcc=self.n_mfcc)\n",
        "        return mfcc"
      ],
      "execution_count": 0,
      "outputs": []
    },
    {
      "metadata": {
        "id": "5TD8XEiHpp2B",
        "colab_type": "code",
        "colab": {}
      },
      "cell_type": "code",
      "source": [
        "mfcc_transform = transforms.Compose([\n",
        "    MFCC()\n",
        "])\n",
        "\n",
        "mfcc_image_transform = transforms.Compose([\n",
        "    transforms.ToPILImage(),\n",
        "    transforms.Resize((37, 50), 4),\n",
        "    transforms.Grayscale(num_output_channels=1),\n",
        "    transforms.ToTensor(),\n",
        "    transforms.Normalize([0.5], [0.5])\n",
        "])"
      ],
      "execution_count": 0,
      "outputs": []
    },
    {
      "metadata": {
        "id": "qSEJ5DD3p0It",
        "colab_type": "code",
        "outputId": "1f23fef5-81e1-4550-d27e-108e460d8482",
        "colab": {
          "base_uri": "https://localhost:8080/",
          "height": 362
        }
      },
      "cell_type": "code",
      "source": [
        "mfcc = AudioFeatureDataset(data_df, ROOT_PATH,\n",
        "                                    audio_transform=mfcc_transform,\n",
        "                                    image_transform=mfcc_image_transform,\n",
        "                                    duration=4, librosa=True)\n",
        "image_mfcc = mfcc.__getitem__(15)[0]\n",
        "\n",
        "plt.imshow(image_mfcc[0], origin='lower')\n",
        "plt.axis('off')\n",
        "plt.title('MFCCs')\n",
        "plt.show()"
      ],
      "execution_count": 29,
      "outputs": [
        {
          "output_type": "display_data",
          "data": {
            "image/png": "[encoded data removed]",
            "text/plain": [
              "<Figure size 576x396 with 1 Axes>"
            ]
          },
          "metadata": {
            "tags": []
          }
        }
      ]
    },
    {
      "metadata": {
        "id": "PxuiJj457q13",
        "colab_type": "text"
      },
      "cell_type": "markdown",
      "source": [
        "### MFCCs: Conv-3"
      ]
    },
    {
      "metadata": {
        "id": "JBntfzXe7tdb",
        "colab_type": "code",
        "outputId": "1c81aef2-7e93-4706-9c2c-87d9c188d529",
        "colab": {
          "base_uri": "https://localhost:8080/",
          "height": 1696
        }
      },
      "cell_type": "code",
      "source": [
        "%%time\n",
        "mfcc_conv3_params = {\n",
        "    'bs': 30,\n",
        "    'preprocess': preprocess_nb,\n",
        "    'epochs': 40,\n",
        "    'lr': 0.001,\n",
        "    'l2': 0.005\n",
        "}\n",
        "\n",
        "mfcc_conv3 = CVModel(data_df, 5, ROOT_PATH,\n",
        "                        mfcc_transform, nb_image_transform,\n",
        "                        4, librosa=True)\n",
        "mfcc_conv3.train_cnn(nb_conv3_model,\n",
        "               mfcc_conv3_params)"
      ],
      "execution_count": 30,
      "outputs": [
        {
          "output_type": "stream",
          "text": [
            "Fold 1 / 5:\n",
            "Training the model on the GPU\n",
            "Epoch: 0; Train loss: 2.9830607399344444; Validation loss: 3.1687569618225098\n",
            "Epoch: 5; Train loss: 0.4641781747341156; Validation loss: 0.6239897012710571\n",
            "Epoch: 10; Train loss: 0.4065818153321743; Validation loss: 0.6039218306541443\n",
            "Epoch: 15; Train loss: 0.36904476583004; Validation loss: 0.5676190257072449\n",
            "Epoch: 20; Train loss: 0.3246744032949209; Validation loss: 0.5670858025550842\n",
            "Epoch: 25; Train loss: 0.2987660225480795; Validation loss: 0.5475795269012451\n",
            "Epoch: 30; Train loss: 0.2868201620876789; Validation loss: 0.6401988863945007\n",
            "Epoch: 35; Train loss: 0.2655208669602871; Validation loss: 0.5800463557243347\n",
            "----------------------------------------\n",
            "Accuracy: 69.64285714285714\n",
            "Confusion matrix:\n",
            " [[21 12]\n",
            " [ 5 18]]\n",
            "----------------------------------------\n",
            "Fold 2 / 5:\n",
            "Training the model on the GPU\n",
            "Epoch: 0; Train loss: 3.331367053091526; Validation loss: 1.736041784286499\n",
            "Epoch: 5; Train loss: 0.529457576572895; Validation loss: 0.4568062722682953\n",
            "Epoch: 10; Train loss: 0.4416171796619892; Validation loss: 0.41337355971336365\n",
            "Epoch: 15; Train loss: 0.40958693996071815; Validation loss: 0.41668447852134705\n",
            "Epoch: 20; Train loss: 0.3370076883584261; Validation loss: 0.4166017472743988\n",
            "Epoch: 25; Train loss: 0.3223033305257559; Validation loss: 0.4275120198726654\n",
            "Epoch: 30; Train loss: 0.31053528375923634; Validation loss: 0.4192492663860321\n",
            "Epoch: 35; Train loss: 0.2814648114144802; Validation loss: 0.41542747616767883\n",
            "----------------------------------------\n",
            "Accuracy: 82.14285714285714\n",
            "Confusion matrix:\n",
            " [[27  6]\n",
            " [ 4 19]]\n",
            "----------------------------------------\n",
            "Fold 3 / 5:\n",
            "Training the model on the GPU\n",
            "Epoch: 0; Train loss: 3.4687362611293793; Validation loss: 1.2941771745681763\n",
            "Epoch: 5; Train loss: 0.45977361500263214; Validation loss: 0.506259024143219\n",
            "Epoch: 10; Train loss: 0.417734295129776; Validation loss: 0.47157081961631775\n",
            "Epoch: 15; Train loss: 0.41665400192141533; Validation loss: 0.45119509100914\n",
            "Epoch: 20; Train loss: 0.3643178604543209; Validation loss: 0.4368969798088074\n",
            "Epoch: 25; Train loss: 0.35528287291526794; Validation loss: 0.4470624625682831\n",
            "Epoch: 30; Train loss: 0.3376654349267483; Validation loss: 0.43275904655456543\n",
            "Epoch: 35; Train loss: 0.31636467203497887; Validation loss: 0.4300512373447418\n",
            "----------------------------------------\n",
            "Accuracy: 83.92857142857143\n",
            "Confusion matrix:\n",
            " [[31  2]\n",
            " [ 7 16]]\n",
            "----------------------------------------\n",
            "Fold 4 / 5:\n",
            "Training the model on the GPU\n",
            "Epoch: 0; Train loss: 3.0622584745287895; Validation loss: 0.5399452447891235\n",
            "Epoch: 5; Train loss: 0.45860639214515686; Validation loss: 0.42146971821784973\n",
            "Epoch: 10; Train loss: 0.3693028576672077; Validation loss: 0.4071265757083893\n",
            "Epoch: 15; Train loss: 0.33373019471764565; Validation loss: 0.40825164318084717\n",
            "Epoch: 20; Train loss: 0.3008640184998512; Validation loss: 0.41242527961730957\n",
            "Epoch: 25; Train loss: 0.3057434353977442; Validation loss: 0.4471205174922943\n",
            "Epoch: 30; Train loss: 0.22497750911861658; Validation loss: 0.4334809482097626\n",
            "Epoch: 35; Train loss: 0.20489853899925947; Validation loss: 0.4778578281402588\n",
            "----------------------------------------\n",
            "Accuracy: 80.0\n",
            "Confusion matrix:\n",
            " [[31  2]\n",
            " [ 9 13]]\n",
            "----------------------------------------\n",
            "Fold 5 / 5:\n",
            "Training the model on the GPU\n",
            "Epoch: 0; Train loss: 3.7953596636652946; Validation loss: 1.0819952487945557\n",
            "Epoch: 5; Train loss: 0.4737277403473854; Validation loss: 0.5209538340568542\n",
            "Epoch: 10; Train loss: 0.4151052087545395; Validation loss: 0.4820815324783325\n",
            "Epoch: 15; Train loss: 0.3836975358426571; Validation loss: 0.4548274874687195\n",
            "Epoch: 20; Train loss: 0.37922409176826477; Validation loss: 0.43570899963378906\n",
            "Epoch: 25; Train loss: 0.3220643140375614; Validation loss: 0.43470919132232666\n",
            "Epoch: 30; Train loss: 0.3270674701780081; Validation loss: 0.41250061988830566\n",
            "Epoch: 35; Train loss: 0.2796579357236624; Validation loss: 0.41975638270378113\n",
            "----------------------------------------\n",
            "Accuracy: 83.33333333333333\n",
            "Confusion matrix:\n",
            " [[28  4]\n",
            " [ 5 17]]\n",
            "----------------------------------------\n",
            "========================================\n",
            "Accuracy scores: [69.64285714285714, 82.14285714285714, 83.92857142857143, 80.0, 83.33333333333333]\n",
            "Mean accuracy: 79.80952380952381\n",
            "Accuracy sd: 5.257863132162466\n",
            "Median accuracy: 82.14285714285714\n",
            "Confusion matrix:\n",
            "[[138  26]\n",
            " [ 30  83]]\n",
            "----------------------------------------\n",
            "Model parameters:\n",
            " {'bs': 30, 'preprocess': <function preprocess_nb at 0x7f7daabc88c8>, 'epochs': 40, 'lr': 0.001, 'l2': 0.005}\n",
            "========================================\n",
            "CPU times: user 25min 13s, sys: 18min 31s, total: 43min 44s\n",
            "Wall time: 23min 7s\n"
          ],
          "name": "stdout"
        }
      ]
    },
    {
      "metadata": {
        "id": "9g4-M5JWsqVu",
        "colab_type": "code",
        "colab": {}
      },
      "cell_type": "code",
      "source": [
        "dill.dump(mfcc_conv3, open(MODEL_PATH / 'mfcc_conv3.p', 'wb'))"
      ],
      "execution_count": 0,
      "outputs": []
    },
    {
      "metadata": {
        "id": "HJ6EQpGVhbn7",
        "colab_type": "text"
      },
      "cell_type": "markdown",
      "source": [
        "### MFCCs: Conv-5"
      ]
    },
    {
      "metadata": {
        "id": "_kFFeYJGhdeJ",
        "colab_type": "code",
        "outputId": "cfa74dd2-3645-4f9a-d9dc-20dce5c99879",
        "colab": {
          "base_uri": "https://localhost:8080/",
          "height": 1696
        }
      },
      "cell_type": "code",
      "source": [
        "%%time\n",
        "mfcc_conv5_params = {\n",
        "    'bs': 30,\n",
        "    'preprocess': preprocess_nb,\n",
        "    'epochs': 40,\n",
        "    'lr': 0.001,\n",
        "    'l2': 0.005\n",
        "}\n",
        "\n",
        "mfcc_conv5 = CVModel(data_df, 5, ROOT_PATH,\n",
        "                        mfcc_transform, nb_image_transform,\n",
        "                        4, librosa=True)\n",
        "mfcc_conv5.train_cnn(nb_conv5_model,\n",
        "               mfcc_conv5_params)"
      ],
      "execution_count": 32,
      "outputs": [
        {
          "output_type": "stream",
          "text": [
            "Fold 1 / 5:\n",
            "Training the model on the GPU\n",
            "Epoch: 0; Train loss: 5.5126475766301155; Validation loss: 0.6746339201927185\n",
            "Epoch: 5; Train loss: 0.6032781451940536; Validation loss: 0.6143430471420288\n",
            "Epoch: 10; Train loss: 0.3911009319126606; Validation loss: 0.740351676940918\n",
            "Epoch: 15; Train loss: 0.3889041095972061; Validation loss: 0.7033088803291321\n",
            "Epoch: 20; Train loss: 0.3962031230330467; Validation loss: 0.7405994534492493\n",
            "Epoch: 25; Train loss: 0.3235546201467514; Validation loss: 0.7390831708908081\n",
            "Epoch: 30; Train loss: 0.31552859023213387; Validation loss: 0.7585695385932922\n",
            "Epoch: 35; Train loss: 0.2877009753137827; Validation loss: 0.7161664366722107\n",
            "----------------------------------------\n",
            "Accuracy: 75.0\n",
            "Confusion matrix:\n",
            " [[25  8]\n",
            " [ 6 17]]\n",
            "----------------------------------------\n",
            "Fold 2 / 5:\n",
            "Training the model on the GPU\n",
            "Epoch: 0; Train loss: 4.0748590007424355; Validation loss: 0.7109560966491699\n",
            "Epoch: 5; Train loss: 0.6177678890526295; Validation loss: 0.571593701839447\n",
            "Epoch: 10; Train loss: 0.47246377542614937; Validation loss: 0.45849448442459106\n",
            "Epoch: 15; Train loss: 0.4437723569571972; Validation loss: 0.46370163559913635\n",
            "Epoch: 20; Train loss: 0.4585471972823143; Validation loss: 0.50217604637146\n",
            "Epoch: 25; Train loss: 0.38147657737135887; Validation loss: 0.46701449155807495\n",
            "Epoch: 30; Train loss: 0.3438851498067379; Validation loss: 0.4771715998649597\n",
            "Epoch: 35; Train loss: 0.32012389972805977; Validation loss: 0.4753689765930176\n",
            "----------------------------------------\n",
            "Accuracy: 87.5\n",
            "Confusion matrix:\n",
            " [[28  5]\n",
            " [ 2 21]]\n",
            "----------------------------------------\n",
            "Fold 3 / 5:\n",
            "Training the model on the GPU\n",
            "Epoch: 0; Train loss: 3.61628594994545; Validation loss: 0.6679182052612305\n",
            "Epoch: 5; Train loss: 0.6634665951132774; Validation loss: 0.6528409123420715\n",
            "Epoch: 10; Train loss: 0.5181680396199226; Validation loss: 0.5142287611961365\n",
            "Epoch: 15; Train loss: 0.4653652086853981; Validation loss: 0.4750030040740967\n",
            "Epoch: 20; Train loss: 0.4269057624042034; Validation loss: 0.44972366094589233\n",
            "Epoch: 25; Train loss: 0.39708613231778145; Validation loss: 0.43848368525505066\n",
            "Epoch: 30; Train loss: 0.3755739815533161; Validation loss: 0.45063382387161255\n",
            "Epoch: 35; Train loss: 0.3750503435730934; Validation loss: 0.49671539664268494\n",
            "----------------------------------------\n",
            "Accuracy: 80.35714285714286\n",
            "Confusion matrix:\n",
            " [[26  7]\n",
            " [ 4 19]]\n",
            "----------------------------------------\n",
            "Fold 4 / 5:\n",
            "Training the model on the GPU\n",
            "Epoch: 0; Train loss: 2.5774369910359383; Validation loss: 0.6532064080238342\n",
            "Epoch: 5; Train loss: 0.590141948312521; Validation loss: 0.4738321602344513\n",
            "Epoch: 10; Train loss: 0.4917038381099701; Validation loss: 0.38231149315834045\n",
            "Epoch: 15; Train loss: 0.47211793065071106; Validation loss: 0.4195219874382019\n",
            "Epoch: 20; Train loss: 0.38586473651230335; Validation loss: 0.45397108793258667\n",
            "Epoch: 25; Train loss: 0.35081966780126095; Validation loss: 0.3814004957675934\n",
            "Epoch: 30; Train loss: 0.3379216305911541; Validation loss: 0.36183005571365356\n",
            "Epoch: 35; Train loss: 0.29243672080338; Validation loss: 0.4127693176269531\n",
            "----------------------------------------\n",
            "Accuracy: 80.0\n",
            "Confusion matrix:\n",
            " [[30  3]\n",
            " [ 8 14]]\n",
            "----------------------------------------\n",
            "Fold 5 / 5:\n",
            "Training the model on the GPU\n",
            "Epoch: 0; Train loss: 1.6051613688468933; Validation loss: 0.7122002840042114\n",
            "Epoch: 5; Train loss: 0.4808135814964771; Validation loss: 0.5312433838844299\n",
            "Epoch: 10; Train loss: 0.4708402082324028; Validation loss: 0.4891958236694336\n",
            "Epoch: 15; Train loss: 0.39513118378818035; Validation loss: 0.4880466163158417\n",
            "Epoch: 20; Train loss: 0.36536418087780476; Validation loss: 0.48948195576667786\n",
            "Epoch: 25; Train loss: 0.3834129571914673; Validation loss: 0.5642654895782471\n",
            "Epoch: 30; Train loss: 0.34265588596463203; Validation loss: 0.46129557490348816\n",
            "Epoch: 35; Train loss: 0.3431124035269022; Validation loss: 0.5626038908958435\n",
            "----------------------------------------\n",
            "Accuracy: 81.48148148148148\n",
            "Confusion matrix:\n",
            " [[28  4]\n",
            " [ 6 16]]\n",
            "----------------------------------------\n",
            "========================================\n",
            "Accuracy scores: [75.0, 87.5, 80.35714285714286, 80.0, 81.48148148148148]\n",
            "Mean accuracy: 80.86772486772487\n",
            "Accuracy sd: 3.995187258941439\n",
            "Median accuracy: 80.35714285714286\n",
            "Confusion matrix:\n",
            "[[137  27]\n",
            " [ 26  87]]\n",
            "----------------------------------------\n",
            "Model parameters:\n",
            " {'bs': 30, 'preprocess': <function preprocess_nb at 0x7f7daabc88c8>, 'epochs': 40, 'lr': 0.001, 'l2': 0.005}\n",
            "========================================\n",
            "CPU times: user 25min 32s, sys: 19min 19s, total: 44min 51s\n",
            "Wall time: 23min 44s\n"
          ],
          "name": "stdout"
        }
      ]
    },
    {
      "metadata": {
        "id": "oJrvN37yRI9n",
        "colab_type": "text"
      },
      "cell_type": "markdown",
      "source": [
        "# Model analysis"
      ]
    },
    {
      "metadata": {
        "id": "EpPWfUisR6z_",
        "colab_type": "text"
      },
      "cell_type": "markdown",
      "source": [
        "## Load models"
      ]
    },
    {
      "metadata": {
        "id": "wLAI4cvwR8hb",
        "colab_type": "text"
      },
      "cell_type": "markdown",
      "source": [
        "An issue with `dill` prevented the mel-scaled models from being saved. To avoid the need of rerunning them, I've copied the printed output below into a separate markdown block."
      ]
    },
    {
      "metadata": {
        "id": "cZzcs1IJRMZp",
        "colab_type": "code",
        "colab": {}
      },
      "cell_type": "code",
      "source": [
        "nblinear_conv3 = dill.load(open(MODEL_PATH / 'nblinear_conv3.p', 'rb'))\n",
        "nblinear_conv5 = dill.load(open(MODEL_PATH / 'nblinear_conv5.p', 'rb'))\n",
        "wblinear_conv3 = dill.load(open(MODEL_PATH / 'wblinear_conv3.p', 'rb'))\n",
        "wblinear_conv5 = dill.load(open(MODEL_PATH / 'wblinear_conv5.p', 'rb'))\n",
        "mfcc_conv3 = dill.load(open(MODEL_PATH / 'mfcc_conv3.p', 'rb'))\n",
        "mfcc_conv3 = dill.load(open(MODEL_PATH / 'mfcc_conv3.p', 'rb'))"
      ],
      "execution_count": 0,
      "outputs": []
    },
    {
      "metadata": {
        "id": "qq8dk4VDSpQ9",
        "colab_type": "text"
      },
      "cell_type": "markdown",
      "source": [
        "## Mean and median accuracy scores"
      ]
    },
    {
      "metadata": {
        "id": "rEF1ruGeSs-J",
        "colab_type": "code",
        "colab": {
          "base_uri": "https://localhost:8080/",
          "height": 1107
        },
        "outputId": "6d533305-88b7-4217-b560-5fdb2e77c3ac"
      },
      "cell_type": "code",
      "source": [
        "print(\"=\"*40)\n",
        "print(f\"Conv-3 models\")\n",
        "print(\"-\"*40)\n",
        "print(\"Narrowband linear-scaled STFT features\")\n",
        "print(f\"Mean: {np.mean(nblinear_conv3.acc_scores)}, SD: {np.std(nblinear_conv3.acc_scores)}, Median: {np.median(nblinear_conv3.acc_scores)}\")\n",
        "print(f\"Confusion matrix:\\n{confusion_matrix(nblinear_conv3.train_actual, nblinear_conv3.train_preds)}\")\n",
        "print(\"Wideband linear-scaled STFT features\")\n",
        "print(f\"Mean: {np.mean(wblinear_conv3.acc_scores)}, SD: {np.std(wblinear_conv3.acc_scores)}, Median: {np.median(wblinear_conv3.acc_scores)}\")\n",
        "print(f\"Confusion matrix:\\n{confusion_matrix(wblinear_conv3.train_actual, wblinear_conv3.train_preds)}\")\n",
        "print(\"-\"*20)\n",
        "print(\"Narrowband mel-scaled STFT features\")\n",
        "print(f\"Mean: {np.mean(nbmel_conv3.acc_scores)}, SD: {np.std(nbmel_conv3.acc_scores)}, Median: {np.median(nbmel_conv3.acc_scores)}\")\n",
        "print(f\"Confusion matrix:\\n{confusion_matrix(nbmel_conv3.train_actual, nbmel_conv3.train_preds)}\")\n",
        "print(\"Wideband mel-scaled STFT features\")\n",
        "print(f\"Mean: {np.mean(wbmel_conv3.acc_scores)}, SD: {np.std(wbmel_conv3.acc_scores)}, Median: {np.median(wbmel_conv3.acc_scores)}\")\n",
        "print(f\"Confusion matrix:\\n{confusion_matrix(wbmel_conv3.train_actual, wbmel_conv3.train_preds)}\")\n",
        "print(\"-\"*20)\n",
        "print(\"MFCC features\")\n",
        "print(f\"Mean: {np.mean(mfcc_conv3.acc_scores)}, SD: {np.std(mfcc_conv3.acc_scores)}, Median: {np.median(mfcc_conv3.acc_scores)}\")\n",
        "print(f\"Confusion matrix:\\n{confusion_matrix(mfcc_conv3.train_actual, mfcc_conv3.train_preds)}\")\n",
        "print(\"=\"*40)\n",
        "print(f\"Conv-5 models\")\n",
        "print(\"-\"*40)\n",
        "print(\"Narrowband linear-scaled STFT features\")\n",
        "print(f\"Mean: {np.mean(nblinear_conv5.acc_scores)}, SD: {np.std(nblinear_conv5.acc_scores)}, Median: {np.median(nblinear_conv5.acc_scores)}\")\n",
        "print(f\"Confusion matrix:\\n{confusion_matrix(nblinear_conv5.train_actual, nblinear_conv5.train_preds)}\")\n",
        "print(\"Wideband linear-scaled STFT features\")\n",
        "print(f\"Mean: {np.mean(wblinear_conv5.acc_scores)}, SD: {np.std(wblinear_conv5.acc_scores)}, Median: {np.median(wblinear_conv5.acc_scores)}\")\n",
        "print(f\"Confusion matrix:\\n{confusion_matrix(wblinear_conv5.train_actual, wblinear_conv5.train_preds)}\")\n",
        "print(\"-\"*20)\n",
        "print(\"Narrowband mel-scaled STFT features\")\n",
        "print(f\"Mean: {np.mean(nbmel_conv5.acc_scores)}, SD: {np.std(nbmel_conv5.acc_scores)}, Median: {np.median(nbmel_conv5.acc_scores)}\")\n",
        "print(f\"Confusion matrix:\\n{confusion_matrix(nbmel_conv5.train_actual, nbmel_conv5.train_preds)}\")\n",
        "print(\"Wideband mel-scaled STFT features\")\n",
        "print(f\"Mean: {np.mean(wbmel_conv5.acc_scores)}, SD: {np.std(wbmel_conv5.acc_scores)}, Median: {np.median(wbmel_conv5.acc_scores)}\")\n",
        "print(f\"Confusion matrix:\\n{confusion_matrix(wbmel_conv5.train_actual, wbmel_conv5.train_preds)}\")\n",
        "print(\"-\"*40)\n",
        "print(\"MFCC features\")\n",
        "print(f\"Mean: {np.mean(mfcc_conv5.acc_scores)}, SD: {np.std(mfcc_conv5.acc_scores)}, Median: {np.median(mfcc_conv5.acc_scores)}\")\n",
        "print(f\"Confusion matrix:\\n{confusion_matrix(mfcc_conv5.train_actual, mfcc_conv5.train_preds)}\")\n",
        "print(\"=\"*40)"
      ],
      "execution_count": 78,
      "outputs": [
        {
          "output_type": "stream",
          "text": [
            "========================================\n",
            "Conv-3 models\n",
            "----------------------------------------\n",
            "Narrowband linear-scaled STFT features\n",
            "Mean: 87.34199134199133, SD: 3.113398424823157, Median: 89.0909090909091\n",
            "Confusion matrix:\n",
            "[[150  14]\n",
            " [ 21  92]]\n",
            "Wideband linear-scaled STFT features\n",
            "Mean: 84.1019721019721, SD: 4.910210806476869, Median: 82.14285714285714\n",
            "Confusion matrix:\n",
            "[[150  14]\n",
            " [ 30  83]]\n",
            "--------------------\n",
            "Narrowband mel-scaled STFT features\n",
            "Mean: 91.6936026936027, SD: 3.320387169947564, Median: 92.72727272727273\n",
            "Confusion matrix:\n",
            "[[157   7]\n",
            " [ 16  97]]\n",
            "Wideband mel-scaled STFT features\n",
            "Mean: 88.11568061568062, SD: 4.09889005650555, Median: 90.74074074074075\n",
            "Confusion matrix:\n",
            "[[157   7]\n",
            " [ 26  87]]\n",
            "--------------------\n",
            "MFCC features\n",
            "Mean: 79.80952380952381, SD: 5.257863132162466, Median: 82.14285714285714\n",
            "Confusion matrix:\n",
            "[[138  26]\n",
            " [ 30  83]]\n",
            "========================================\n",
            "Conv-5 models\n",
            "----------------------------------------\n",
            "Narrowband linear-scaled STFT features\n",
            "Mean: 77.7056277056277, SD: 12.868825496723126, Median: 83.33333333333333\n",
            "Confusion matrix:\n",
            "[[150  14]\n",
            " [ 48  65]]\n",
            "Wideband linear-scaled STFT features\n",
            "Mean: 86.64766714766715, SD: 5.699999257410832, Median: 87.27272727272727\n",
            "Confusion matrix:\n",
            "[[155   9]\n",
            " [ 28  85]]\n",
            "--------------------\n",
            "Narrowband mel-scaled STFT features\n",
            "Mean: 84.84872534872534, SD: 4.276381730499409, Median: 85.18518518518519\n",
            "Confusion matrix:\n",
            "[[140  24]\n",
            " [ 18  95]]\n",
            "Wideband mel-scaled STFT features\n",
            "Mean: 85.51010101010101, SD: 4.333760974997422, Median: 85.71428571428571\n",
            "Confusion matrix:\n",
            "[[146  18]\n",
            " [ 22  91]]\n",
            "----------------------------------------\n",
            "MFCC features\n",
            "Mean: 80.86772486772487, SD: 3.995187258941439, Median: 80.35714285714286\n",
            "Confusion matrix:\n",
            "[[137  27]\n",
            " [ 26  87]]\n",
            "========================================\n"
          ],
          "name": "stdout"
        }
      ]
    },
    {
      "metadata": {
        "id": "Wu8BpZNraRrQ",
        "colab_type": "text"
      },
      "cell_type": "markdown",
      "source": [
        "```\n",
        "========================================\n",
        "Conv-3 models\n",
        "----------------------------------------\n",
        "Narrowband linear-scaled STFT features\n",
        "Mean: 87.34199134199133, SD: 3.113398424823157, Median: 89.0909090909091\n",
        "Confusion matrix:\n",
        "[[150  14]\n",
        " [ 21  92]]\n",
        "Wideband linear-scaled STFT features\n",
        "Mean: 84.1019721019721, SD: 4.910210806476869, Median: 82.14285714285714\n",
        "Confusion matrix:\n",
        "[[150  14]\n",
        " [ 30  83]]\n",
        "--------------------\n",
        "Narrowband mel-scaled STFT features\n",
        "Mean: 91.6936026936027, SD: 3.320387169947564, Median: 92.72727272727273\n",
        "Confusion matrix:\n",
        "[[157   7]\n",
        " [ 16  97]]\n",
        "Wideband mel-scaled STFT features\n",
        "Mean: 88.11568061568062, SD: 4.09889005650555, Median: 90.74074074074075\n",
        "Confusion matrix:\n",
        "[[157   7]\n",
        " [ 26  87]]\n",
        "--------------------\n",
        "MFCC features\n",
        "Mean: 79.80952380952381, SD: 5.257863132162466, Median: 82.14285714285714\n",
        "Confusion matrix:\n",
        "[[138  26]\n",
        " [ 30  83]]\n",
        "========================================\n",
        "Conv-5 models\n",
        "----------------------------------------\n",
        "Narrowband linear-scaled STFT features\n",
        "Mean: 77.7056277056277, SD: 12.868825496723126, Median: 83.33333333333333\n",
        "Confusion matrix:\n",
        "[[150  14]\n",
        " [ 48  65]]\n",
        "Wideband linear-scaled STFT features\n",
        "Mean: 86.64766714766715, SD: 5.699999257410832, Median: 87.27272727272727\n",
        "Confusion matrix:\n",
        "[[155   9]\n",
        " [ 28  85]]\n",
        "--------------------\n",
        "Narrowband mel-scaled STFT features\n",
        "Mean: 84.84872534872534, SD: 4.276381730499409, Median: 85.18518518518519\n",
        "Confusion matrix:\n",
        "[[140  24]\n",
        " [ 18  95]]\n",
        "Wideband mel-scaled STFT features\n",
        "Mean: 85.51010101010101, SD: 4.333760974997422, Median: 85.71428571428571\n",
        "Confusion matrix:\n",
        "[[146  18]\n",
        " [ 22  91]]\n",
        "----------------------------------------\n",
        "MFCC features\n",
        "Mean: 80.86772486772487, SD: 3.995187258941439, Median: 80.35714285714286\n",
        "Confusion matrix:\n",
        "[[137  27]\n",
        " [ 26  87]]\n",
        "========================================\n",
        "```"
      ]
    },
    {
      "metadata": {
        "id": "vn7-1ozRaV8u",
        "colab_type": "text"
      },
      "cell_type": "markdown",
      "source": [
        "The highest accuracy is achieved by Conv-3 with narrowband mel-scaled STFT features. With the exception of the narrowband linear-scaled STFT features (and, narrowly, the MFCCs), the shallowed Conv-3 model performed better than the deeper Conv-5 model. Huzaifah (2017: 4) found similar for environmental sounds and attributed it to a tendency of the Conv-5 model to overfit to the training data.\n",
        "\n",
        "The confusion matrices for the Conv-3 models indicate that the use of narrowband features leads to a more accurate classification of dog vocalisations with no change in the accuracy of cat classifications. This suggests that a) for at least some dog vocalisations, greater resolution in the time domain leads to greater accuracy and b) while more cat vocalisations are associated with changes in the frequency domain, narrowband transformations capture enough frequency-domain variation to maintain classification accuracy."
      ]
    },
    {
      "metadata": {
        "id": "3fvI6SPvg4GW",
        "colab_type": "text"
      },
      "cell_type": "markdown",
      "source": [
        "## Overfitting for narrowband mel-scaled STFT Conv-3"
      ]
    },
    {
      "metadata": {
        "id": "iNA1xH9AmI9F",
        "colab_type": "text"
      },
      "cell_type": "markdown",
      "source": [
        "While the Conv-3 model with narrowband mel-scaled STFT spectrogram features was found to have the highest classification accuracy, inspection of the training and validation loss curves showed considerable overfitting for several of the cross-validation folds, most notably folds 1 and 3. These losses, as well as the model accuracy per epoch, for each fold is shown below:"
      ]
    },
    {
      "metadata": {
        "id": "brc7pTrGm6nd",
        "colab_type": "code",
        "colab": {
          "base_uri": "https://localhost:8080/",
          "height": 1486
        },
        "outputId": "ff3eeac8-c02d-47e6-dd58-0c61ba59b621"
      },
      "cell_type": "code",
      "source": [
        "for i in range(len(nbmel_conv3.train_loss)):\n",
        "    print(f\"CV fold {i+1} of {len(nbmel_conv3.train_loss)}\")\n",
        "    _, ax = plt.subplots(1, 2, figsize=(8, 4))\n",
        "    ax[0].plot(nblinear_conv3.train_loss[i], label=\"Training loss\")\n",
        "    ax[0].plot(nblinear_conv3.valid_loss[i], label=\"Validation loss\")\n",
        "    ax[0].set_title(\"Training and validation loss by epoch\")\n",
        "    ax[0].set_xlabel(\"Epoch\")\n",
        "    ax[0].set_ylabel(\"Loss\")\n",
        "    ax[0].legend(loc='upper right')\n",
        "    ax[1].plot(nblinear_conv3.epoch_accuracy[i])\n",
        "    ax[1].set_title(\"Accuracy by epoch\")\n",
        "    ax[1].set_xlabel(\"Epoch\")\n",
        "    ax[1].set_ylabel(\"Accuracy (%)\")\n",
        "    plt.tight_layout()\n",
        "    plt.show()"
      ],
      "execution_count": 86,
      "outputs": [
        {
          "output_type": "stream",
          "text": [
            "CV fold 1 of 5\n"
          ],
          "name": "stdout"
        },
        {
          "output_type": "display_data",
          "data": {
            "image/png": "[encoded data removed]",
            "text/plain": [
              "<Figure size 576x288 with 2 Axes>"
            ]
          },
          "metadata": {
            "tags": []
          }
        },
        {
          "output_type": "stream",
          "text": [
            "CV fold 2 of 5\n"
          ],
          "name": "stdout"
        },
        {
          "output_type": "display_data",
          "data": {
            "image/png": "[encoded data removed]",
            "text/plain": [
              "<Figure size 576x288 with 2 Axes>"
            ]
          },
          "metadata": {
            "tags": []
          }
        },
        {
          "output_type": "stream",
          "text": [
            "CV fold 3 of 5\n"
          ],
          "name": "stdout"
        },
        {
          "output_type": "display_data",
          "data": {
            "image/png": "[encoded data removed]",
            "text/plain": [
              "<Figure size 576x288 with 2 Axes>"
            ]
          },
          "metadata": {
            "tags": []
          }
        },
        {
          "output_type": "stream",
          "text": [
            "CV fold 4 of 5\n"
          ],
          "name": "stdout"
        },
        {
          "output_type": "display_data",
          "data": {
            "image/png": "[encoded data removed]",
            "text/plain": [
              "<Figure size 576x288 with 2 Axes>"
            ]
          },
          "metadata": {
            "tags": []
          }
        },
        {
          "output_type": "stream",
          "text": [
            "CV fold 5 of 5\n"
          ],
          "name": "stdout"
        },
        {
          "output_type": "display_data",
          "data": {
            "image/png": "[encoded data removed]",
            "text/plain": [
              "<Figure size 576x288 with 2 Axes>"
            ]
          },
          "metadata": {
            "tags": []
          }
        }
      ]
    },
    {
      "metadata": {
        "id": "V9-nTUBwo382",
        "colab_type": "text"
      },
      "cell_type": "markdown",
      "source": [
        "# Proposed next steps"
      ]
    },
    {
      "metadata": {
        "id": "ZV17ZAi6qeSo",
        "colab_type": "text"
      },
      "cell_type": "markdown",
      "source": [
        "Despite the very small size of the current data set, the Conv-3 model shows promising accuracy when making using narrowband mel-scaled spectrograms as the input feature set. In addition, performing the feature extraction on the GPU with `torchaudio` has allowed the models to be trained much more quickly than would be possible with a CPU-based audio feature library like `librosa`.\n",
        "\n",
        "The current results could likely be improved further. First, examination of the training and validation losses showed some degree of overfitting, even for the best model. Within the current Conv-3 architecture, overfitting may be reduced by adjusting the dropout hyperparameters. Second, all raw audio was clipped/padded to a 4-second duration. There is some suggestion that the time domain may be more important than the frequency domain for identifying some dog vocalisations and clipping longer audio may have removed some valuable information. Using larger (perhaps 6 or 8 second) audio clips may lead to greater classification accuracy, albeit at the cost of a somewhat-greater training time.\n",
        "\n",
        "There are additional options outside the current architectures. Transfer learning, even for a model not trained on acoustic images, might outperform the best model here. So, too, might the use of e.g. resnet architectures. It might also be possible to achieve considerable accuracy using a 1-dimensional convolution in the time domain alone rather than the frequency-time representations used in the current projects."
      ]
    }
  ]
}